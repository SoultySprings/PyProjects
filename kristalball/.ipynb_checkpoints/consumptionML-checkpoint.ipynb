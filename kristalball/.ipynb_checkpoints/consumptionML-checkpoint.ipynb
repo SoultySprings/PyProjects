{
 "cells": [
  {
   "cell_type": "markdown",
   "id": "fdbd5b5fa0b8d6ab",
   "metadata": {},
   "source": [
    "### DataFrame of Bars with Alcohol\n",
    "\n",
    "The following JupyterPy Notebook  is made for tha analysis of the dataset containing multiple datas of the bar, and also the other containers\n",
    "##### The major containers to look are the :\n",
    "1. Purchase (ml)\n",
    "2. Consumed (ml)\n",
    "3. Closing Balance (ml)\n",
    "4. also a notable refernce should be taken as to the respective Bars, Alcohol Varities and their types, contribution to the Closing (ml)\n",
    "\n",
    "##### Libraries used for the PyNotebook are :\n",
    "1. Pandas (for Database Reading as well as Database manipulation)\n",
    "2. Plotly (for create intuitive plots for better data analysis and understanding)\n",
    "3. Matplotlib (for visualisation of plots)\n",
    "4. NumPy (for array creation (if needed))\n",
    "\n",
    "The dataset can be accessed from the following link - https://docs.google.com/spreadsheets/d/14i7oWnBOoIf3pai37bsGYkby3VXJL1AlX_KxC8ZMKtg/edit?gid=1742513311#gid=1742513311\n",
    "but has been downloaded here for personal reference and sufficient data analysis.\n"
   ]
  },
  {
   "cell_type": "markdown",
   "id": "288a1368e013e5c6",
   "metadata": {},
   "source": [
    "##### Below cell for importing and reading of given dataset"
   ]
  },
  {
   "cell_type": "code",
   "id": "0dde9e7b-16da-4d03-a3b5-024414272585",
   "metadata": {},
   "source": [
    "import numpy as np, pandas as pd, matplotlib, plotly.express as px\n",
    "%matplotlib inline\n",
    "matplotlib.rcParams['font.size'] = 16 #Parameters for graphs\n",
    "matplotlib.rcParams['figure.figsize'] = (10,10) #Parameters for graphs\n",
    "df = pd.read_csv('consdata.csv') #Reading dataset\n"
   ],
   "outputs": [],
   "execution_count": null
  },
  {
   "cell_type": "markdown",
   "id": "6486da7223eb8f5d",
   "metadata": {},
   "source": [
    "##### Dataset info and general analysis"
   ]
  },
  {
   "cell_type": "code",
   "id": "3970bce45833dd16",
   "metadata": {},
   "source": [
    "print(df) #Printing Dataset for understanding\n",
    "print(\"+++++++++++++++++++++++++++++++++++++++++++++++++++++++++++++++++++++++++++++++++\\n\",df.describe()) #Check for outliers or null-data\n",
    "print(\"+++++++++++++++++++++++++++++++++++++++++++++++++++++++++++++++++++++++++++++++++\\n\",df.info()) #Check for space"
   ],
   "outputs": [],
   "execution_count": null
  },
  {
   "cell_type": "markdown",
   "id": "d770f3104bc23ab1",
   "metadata": {},
   "source": [
    "#### Detection of Unique Items such as the unique bar names, alcohols consumed and their brands that are taken :"
   ]
  },
  {
   "cell_type": "code",
   "id": "42f76f25d136a7f3",
   "metadata": {},
   "source": [
    "\n",
    "uniqueBars = df['Bar Name'].unique()\n",
    "uniqueAlcohols = df['Alcohol Type'].unique()\n",
    "uniqueBrandName = df['Brand Name'].unique()\n",
    "print(uniqueBars)\n",
    "print(\"\\n\", uniqueAlcohols)\n",
    "print(\"\\n\", uniqueBrandName)\n"
   ],
   "outputs": [],
   "execution_count": null
  },
  {
   "cell_type": "markdown",
   "id": "a84a37a0e3de5d7e",
   "metadata": {},
   "source": [
    "#### The following cell differentiates the date as well as the time in hrs and mins to analyze the data with respect to time in order to find any trends, such as higher consumption at one time while lower at the other"
   ]
  },
  {
   "cell_type": "code",
   "id": "7dda7f32970354ab",
   "metadata": {},
   "source": [
    "dateandtime = df['Date Time Served'].to_numpy()\n",
    "timeHour = [s[-5:-3].strip() for s in dateandtime] #Seperating Date from Date and Time\n",
    "timeMin = [s[-2:].strip() for s in dateandtime] #Seperating Time in Mins from Date and Time\n",
    "dateRed = [s[:-6].strip() for s in dateandtime] #Seperating Time in Hours from Date and Time\n",
    "\n",
    "# print(timeMin)\n",
    "\n",
    "# dateDay = [s[:2].strip() for s in dateRed]\n",
    "# dateMonth = [s[-7:-5].strip() for s in dateRed]\n",
    "# dateYear = [s[-4:].strip() for s in dateRed]\n",
    "# print(dateDay)\n",
    "# print(dateMonth)\n",
    "# print(dateYear)\n",
    "#\n",
    "dfDateTime = df.copy()\n",
    "dfDateTime = dfDateTime.drop(columns=['Date Time Served']) #Removing the coloumnd of 'Date and Time Served'\n",
    "dfDateTime['Date'] = dateRed #Replacing that with Date\n",
    "dfDateTime['Time (Hrs)'] = timeHour #Replacing that with Time in hours\n",
    "dfDateTime['Time (Min)'] = timeMin #Replacing that with Time in mins\n",
    "\n",
    "dfTimeSort = dfDateTime.sort_values(by=['Time (Hrs)', 'Time (Min)'])\n",
    "# dfTimeSort\n",
    "# # dfDate = dfDateTime.drop(columns=['Time']).copy()\n",
    "# # dfDate\n",
    "# # dfTime = dfDateTime.drop(columns=['Date']).sort_values([\"Time\"]).copy()\n",
    "# # figOverallWithDate = px.histogram(dfDate, x='Date', y='Purchase (ml)', color='Bar Name', color_discrete_sequence=px.colors.qualitative.G10, title = \"Overall to the Date\")\n",
    "#\n",
    "\n",
    "figOverallWithTimeBarPur = px.bar(dfTimeSort, x='Time (Hrs)', y='Purchase (ml)', color='Bar Name', color_discrete_sequence=px.colors.qualitative.G10, barmode='group', template='plotly_dark', title = \"Overall to the Time (Purchase (ml))\")\n",
    "figOverallWithTimeAlcoholPur = px.bar(dfTimeSort, x='Time (Hrs)', y='Purchase (ml)', color='Alcohol Type', color_discrete_sequence=px.colors.qualitative.G10, barmode='group', template='plotly_dark', title = \"Overall to the Time (Purchase (ml))\")\n",
    "figOverallWithTimeBrandPur = px.bar(dfTimeSort, x='Time (Hrs)', y='Purchase (ml)', color='Brand Name', color_discrete_sequence=px.colors.qualitative.G10, barmode='group', template='plotly_dark', title = \"Overall to the Time (Purchase (ml))\")\n",
    "#\n",
    "figOverallWithTimeBarCons = px.bar(dfTimeSort, x='Time (Hrs)', y='Consumed (ml)', color='Bar Name', color_discrete_sequence=px.colors.qualitative.G10, barmode='group', template='plotly_dark', title = \"Overall to the Time (Consumed (ml))\")\n",
    "figOverallWithTimeAlcoholCons = px.bar(dfTimeSort, x='Time (Hrs)', y='Consumed (ml)', color='Bar Name', color_discrete_sequence=px.colors.qualitative.G10, barmode='group', template='plotly_dark', title = \"Overall to the Time (Consumed (ml))\")\n",
    "figOverallWithTimeBrandCons = px.bar(dfTimeSort, x='Time (Hrs)', y='Consumed (ml)', color='Brand Name', color_discrete_sequence=px.colors.qualitative.G10, barmode='group', template='plotly_dark', title = \"Overall to the Time (Consumed (ml))\")\n",
    "#\n",
    "#\n",
    "figOverallWithTimeBarPur.show()\n",
    "figOverallWithTimeAlcoholPur.show()\n",
    "figOverallWithTimeBrandPur.show()\n",
    "#\n",
    "figOverallWithTimeBarCons.show()\n",
    "figOverallWithTimeAlcoholCons.show()\n",
    "figOverallWithTimeBrandCons.show()\n",
    "#\n",
    "#\n"
   ],
   "outputs": [],
   "execution_count": null
  },
  {
   "cell_type": "markdown",
   "id": "2b8a9b3aafc8cb86",
   "metadata": {},
   "source": [
    "#### Below differentiates the Dataset with respect to the Bars, for internal analysis of each bar"
   ]
  },
  {
   "cell_type": "code",
   "id": "77ee3529d2fe3cfd",
   "metadata": {},
   "source": [
    "\n",
    "dfAnderson = df[df['Bar Name'].str.contains(\"Anderson\")].sort_values([\"Alcohol Type\", \"Brand Name\"], ascending=True).copy()\n",
    "dfBrown = df[df['Bar Name'].str.contains(\"Brown\")].sort_values([\"Alcohol Type\", \"Brand Name\"], ascending=True).copy()\n",
    "dfJohnson = df[df['Bar Name'].str.contains(\"Johnson\")].sort_values([\"Alcohol Type\", \"Brand Name\"], ascending=True).copy()\n",
    "dfSmith = df[df['Bar Name'].str.contains(\"Smith\")].sort_values([\"Alcohol Type\", \"Brand Name\"], ascending=True).copy()\n",
    "dfTaylor = df[df['Bar Name'].str.contains(\"Taylor\")].sort_values([\"Alcohol Type\", \"Brand Name\"], ascending=True).copy()\n",
    "dfThomas = df[df['Bar Name'].str.contains(\"Thomas\")].sort_values([\"Alcohol Type\", \"Brand Name\"], ascending=True).copy()\n"
   ],
   "outputs": [],
   "execution_count": null
  },
  {
   "cell_type": "markdown",
   "id": "bf8253acada4ebf6",
   "metadata": {},
   "source": [
    "#### This cell below is crucial for data analysis as it maps all the different unqiue bars, alcohol varities and their brands, to numbers. This allows in using Correlation to better understand if any relation is present between the quantities. This can also help in finding if a trend can be spotted and this trend can then be worked on upon.\n"
   ]
  },
  {
   "cell_type": "code",
   "id": "66943b8535b5393c",
   "metadata": {},
   "source": [
    "\n",
    "barName = {\"Anderson's Bar\":0,\"Brown's Bar\":1,\"Johnson's Bar\":2,\"Smith's Bar\":3,\"Taylor's Bar\":4,\"Thomas's Bar\":5}\n",
    "alcoholType = {'Beer':0,'Rum':1,'Vodka':2,'Whiskey':3,'Wine':4}\n",
    "brandName = {'Budweiser':0, 'Coors':1, 'Heineken':2, 'Miller':3, 'Bacardi':4, 'Captain Morgan':5,\n",
    " 'Malibu':6, 'Absolut':7, 'Grey Goose':8, 'Smirnoff':9, 'Jack Daniels':10, 'Jameson':11, 'Jim Beam':12,\n",
    " 'Barefoot':13, 'Yellow Tail':14}\n",
    "\n",
    "dfNumeric = df.copy()\n",
    "dfNumeric = dfNumeric.drop(columns=['Bar Name', 'Alcohol Type', 'Brand Name', 'Date Time Served'])\n",
    "barName_numeric = df[\"Bar Name\"].map(barName)\n",
    "alcoholType_numeric = df[\"Alcohol Type\"].map(alcoholType)\n",
    "brandName_numeric = df[\"Brand Name\"].map(brandName)\n",
    "\n",
    "\n",
    "dfNumeric['BarNumeric']= barName_numeric\n",
    "dfNumeric['AlcoholNumeric'] = alcoholType_numeric\n",
    "dfNumeric['BrandNumeric']= brandName_numeric\n",
    "dfNumeric\n"
   ],
   "outputs": [],
   "execution_count": null
  },
  {
   "cell_type": "code",
   "id": "ddfa33f43d5f08aa",
   "metadata": {},
   "source": [
    "dfNumeric.corr() # .corr() is used to find correlation overall between quantites, this can be verified as equal columns have correlation of 1, resembling they are duplicates"
   ],
   "outputs": [],
   "execution_count": null
  },
  {
   "cell_type": "markdown",
   "id": "1a7c545298dc6dfb",
   "metadata": {},
   "source": [
    "#### To make an overall analysis as to how the Bars contribute to the overall alcohol quantity, we define a new database for checking trends of each bar, alcohols and brands.\n"
   ]
  },
  {
   "cell_type": "code",
   "id": "5342e3695481a610",
   "metadata": {},
   "source": [
    "dfOverall = df.copy().drop(columns=['Date Time Served']).sort_values(by=['Bar Name', 'Alcohol Type', 'Brand Name'], ascending=True)\n",
    "dfOverall"
   ],
   "outputs": [],
   "execution_count": null
  },
  {
   "cell_type": "code",
   "id": "1023328c64379b77",
   "metadata": {},
   "source": [
    "PieOverallBarClose = px.pie(dfOverall, values='Opening Balance (ml)', template='plotly_dark', names='Bar Name')\n",
    "PieOverallBarClose = px.pie(dfOverall, values='Closing Balance (ml)', template='plotly_dark', names='Bar Name')\n",
    "PieOverallBarPur = px.pie(dfOverall, values='Purchase (ml)', template='plotly_dark', names='Bar Name')\n",
    "PieOverallBarCons = px.pie(dfOverall, values='Purchase (ml)', template='plotly_dark', names='Bar Name')\n",
    "PieOverallAlPur = px.pie(dfOverall, values='Purchase (ml)', template='plotly_dark', names='Alcohol Type')\n",
    "PieOverallAlCons = px.pie(dfOverall, values='Consumed (ml)', template='plotly_dark', names='Alcohol Type')\n",
    "\n",
    "PieOverallBarClose.show()\n",
    "PieOverallBarPur.show()\n",
    "PieOverallBarCons.show()\n",
    "PieOverallAlPur.show()\n",
    "PieOverallAlCons.show()"
   ],
   "outputs": [],
   "execution_count": null
  },
  {
   "cell_type": "markdown",
   "id": "d6bbd3192422d45f",
   "metadata": {},
   "source": [
    "#### The below cell makes scatter plots of overall all Bars contribution to the Purchase (ml) vs Closing  Balance (ml). After that we comparison the Consumed (ml) to the Closing Balance (ml).\n",
    "We do this as spot any trends and it is visual that Consumed (ml) has no contribution to the Closing Balance (ml) while Purchase (ml) has a positive LINEAR REGRESSION. This means that people often buy more than consume the alcohol and that contributes more to the Closing Balance."
   ]
  },
  {
   "cell_type": "code",
   "id": "81313f1d7ff803fd",
   "metadata": {},
   "source": [
    "figOverallBarPur = px.scatter(dfOverall, x='Purchase (ml)', y='Closing Balance (ml)', color = 'Bar Name',\n",
    "                     color_discrete_sequence=px.colors.qualitative.G10, template='plotly_dark', title='Overall\\'s - Bar to Closing')\n",
    "figOverallAlcoholPur = px.scatter(dfOverall, x='Purchase (ml)', y='Closing Balance (ml)', color = 'Alcohol Type',\n",
    "                     color_discrete_sequence=px.colors.qualitative.G10, template='plotly_dark', title='Overall\\'s - Alcohol to Closing')\n",
    "figOverallBrandPur = px.scatter(dfOverall, x='Purchase (ml)', y='Closing Balance (ml)', color = 'Brand Name',\n",
    "                     color_discrete_sequence=px.colors.qualitative.G10, template='plotly_dark', title='Overall\\'s - Brand to Closing')\n",
    "\n",
    "figOverallBarCons = px.scatter(dfOverall, x='Consumed (ml)', y='Closing Balance (ml)', color='Bar Name',\n",
    "                                color_discrete_sequence=px.colors.qualitative.G10, template='plotly_dark', title='Overall\\'s - Bar to Closing')\n",
    "figOverallAlcoholCons = px.scatter(dfOverall, x='Consumed (ml)', y='Closing Balance (ml)', color='Alcohol Type',\n",
    "                                  color_discrete_sequence=px.colors.qualitative.G10,\n",
    "                                template='plotly_dark', title='Overall\\'s - Alcohol to Closing')\n",
    "figOverallBrandCons = px.scatter(dfOverall, x='Consumed (ml)', y='Closing Balance (ml)', color='Brand Name',\n",
    "                                color_discrete_sequence=px.colors.qualitative.G10,\n",
    "                                template='plotly_dark', title='Overall\\'s - Brand to Closing')\n",
    "\n",
    "figOverallBarPur.show()\n",
    "figOverallAlcoholPur.show()\n",
    "figOverallBrandPur.show()\n",
    "\n",
    "figOverallBarCons.show()\n",
    "figOverallAlcoholCons.show()\n",
    "figOverallBrandCons.show()"
   ],
   "outputs": [],
   "execution_count": null
  },
  {
   "cell_type": "markdown",
   "id": "20a66e7960754ed",
   "metadata": {},
   "source": [
    "#### This cell has been commented as it shows a Pie diagram for each representation of each bar with trends in Brand and Alcohol, and can be visually seen in the next upcoming cells and so kept commented. Feel free to uncomment and visualize them.\n"
   ]
  },
  {
   "cell_type": "code",
   "id": "36a149b44602eace",
   "metadata": {},
   "source": [
    "# PieAndyBrandPur = px.pie(dfAnderson, values='Purchase (ml)', names='Brand Name')\n",
    "# PieAndyAlcoholPur = px.pie(dfAnderson, values='Purchase (ml)', names='Alcohol Type')\n",
    "# PieBrownBrandPur = px.pie(dfBrown, values='Purchase (ml)', names='Brand Name')\n",
    "# PieBrownAlcoholPur = px.pie(dfBrown, values='Purchase (ml)', names='Alcohol Type')\n",
    "# PieJohnsonBrandPur = px.pie(dfJohnson, values='Purchase (ml)', names='Brand Name')\n",
    "# PieJohnsonAlcoholPur = px.pie(dfJohnson, values='Purchase (ml)', names='Alcohol Type')\n",
    "# PieSmithBrandPur = px.pie(dfSmith, values='Purchase (ml)', names='Brand Name')\n",
    "# PieSmithAlcoholPur = px.pie(dfSmith, values='Purchase (ml)', names='Alcohol Type')\n",
    "# PieTaylorBrandPur = px.pie(dfTaylor, values='Purchase (ml)', names='Brand Name')\n",
    "# PieTaylorAlcoholPur = px.pie(dfTaylor, values='Purchase (ml)', names='Alcohol Type')\n",
    "# PieThomasBrandPur = px.pie(dfThomas, values='Purchase (ml)', names='Brand Name')\n",
    "# PieThomasAlcoholPur = px.pie(dfThomas, values='Purchase (ml)', names='Alcohol Type')\n",
    "#\n",
    "#\n",
    "# PieAndyAlcoholPur.show()\n",
    "# PieBrownAlcoholPur.show()\n",
    "# PieJohnsonAlcoholPur.show()\n",
    "# PieSmithAlcoholPur.show()\n",
    "# PieTaylorAlcoholPur.show()\n",
    "# PieThomasAlcoholPur.show()\n",
    "# PieAndyBrandPur.show()\n",
    "# PieBrownBrandPur.show()\n",
    "# PieJohnsonBrandPur.show()\n",
    "# PieSmithBrandPur.show()\n",
    "# PieTaylorBrandPur.show()\n",
    "# PieThomasBrandPur.show()"
   ],
   "outputs": [],
   "execution_count": null
  },
  {
   "cell_type": "markdown",
   "id": "2f1fb2e541bceddf",
   "metadata": {},
   "source": [
    "#### The following cell is used for analysis of the overall usage of inventory for each trending alchools for each bar with their brands as well. It also mentions that overall which alcohol brand is conusmed more and which isn't and can be kept less in quantity."
   ]
  },
  {
   "cell_type": "code",
   "id": "b880b9da811ec71b",
   "metadata": {},
   "source": [
    "\n",
    "figOverallDifferenceAl = px.histogram(dfOverall, x=dfOverall.columns[:1], y='Purchase (ml)', barmode='group', marginal='rug', color = 'Alcohol Type',color_discrete_sequence=px.colors.qualitative.G10, template='plotly_dark', title='Brands').update_layout(bargap=0.2)\n",
    "figOverallDifferenceBrNa = px.histogram(dfOverall, x=dfOverall.columns[:1], y='Purchase (ml)', barmode='group', marginal='rug', color = 'Brand Name',color_discrete_sequence=px.colors.qualitative.G10, template='plotly_dark', title='Brands').update_layout(bargap=0.2)\n",
    "\n",
    "figOverallDifferenceAl.show()\n",
    "figOverallDifferenceBrNa.show()"
   ],
   "outputs": [],
   "execution_count": null
  },
  {
   "cell_type": "markdown",
   "id": "a4b10c05398e76f8",
   "metadata": {},
   "source": [
    "#### The below cell gives a detailed anlaysis for each bars inventory as well as what drink is purchased more and what is consumed more, as well as gives a analysis as to which inventory shall be kept in high quantites while which shouldn't."
   ]
  },
  {
   "cell_type": "code",
   "id": "bc6f33526b394c3f",
   "metadata": {},
   "source": [
    "figAndersonAlBrPur = px.histogram(dfAnderson, x=dfAnderson.columns[2:3], y='Purchase (ml)', barmode='group', marginal='rug', color = 'Brand Name',color_discrete_sequence=px.colors.qualitative.G10, template='plotly_dark', title='Anderson\\'s Bar Alcohol to Purchase (ml) (Brand Name)')\n",
    "figAndersonAlBrCons = px.histogram(dfAnderson, x=dfAnderson.columns[2:3], y='Consumed (ml)', barmode='group', marginal='rug', color = 'Brand Name',color_discrete_sequence=px.colors.qualitative.G10, template='plotly_dark', title='Anderson\\'s Bar Alcohol to Consumed (ml) (Brand Name)')\n",
    "\n",
    "\n",
    "figBrownAlBrPur = px.histogram(dfBrown, x=dfBrown.columns[2:3], y='Purchase (ml)', barmode='group', marginal='rug', color = 'Brand Name',color_discrete_sequence=px.colors.qualitative.G10, template='plotly_dark', title='Brown\\'s Bar Alcohol to Purchase (ml) (Brand Name)')\n",
    "figBrownAlBrCons = px.histogram(dfBrown, x=dfBrown.columns[2:3], y='Consumed (ml)', barmode='group', marginal='rug', color = 'Brand Name',color_discrete_sequence=px.colors.qualitative.G10, template='plotly_dark', title='Brown\\'s Bar Alcohol to Consumed (ml) (Consumed (ml))')\n",
    "\n",
    "figJohnsonAlBrPur = px.histogram(dfJohnson, x=dfJohnson.columns[2:3], y='Purchase (ml)', barmode='group', marginal='rug', color = 'Brand Name',color_discrete_sequence=px.colors.qualitative.G10, template='plotly_dark', title='Johnson\\'s Bar Alcohol to Purchase (ml) (Brand Name)')\n",
    "figJohnsonAlBrCons = px.histogram(dfJohnson, x=dfJohnson.columns[2:3], y='Consumed (ml)', barmode='group', marginal='rug', color = 'Brand Name',color_discrete_sequence=px.colors.qualitative.G10, template='plotly_dark', title='Johnson\\'s Bar Alcohol to Consumed (ml) (Consumed (ml))')\n",
    "\n",
    "figSmithAlBrPur = px.histogram(dfSmith, x=dfSmith.columns[2:3], y='Purchase (ml)', barmode='group', marginal='rug', color = 'Brand Name',color_discrete_sequence=px.colors.qualitative.G10, template='plotly_dark', title='Smith\\'s Bar Alcohol to Purchase (ml) (Brand Name)')\n",
    "figSmithAlBrCons = px.histogram(dfSmith, x=dfSmith.columns[2:3], y='Purchase (ml)', barmode='group', marginal='rug', color = 'Brand Name',color_discrete_sequence=px.colors.qualitative.G10, template='plotly_dark', title='Smith\\'s Bar Alcohol to Consumed (ml) (Consumed (ml))')\n",
    "\n",
    "figTaylorAlBrPur = px.histogram(dfTaylor, x=dfTaylor.columns[2:3], y='Purchase (ml)', barmode='group', marginal='rug', color = 'Brand Name',color_discrete_sequence=px.colors.qualitative.G10, template='plotly_dark', title='Taylor\\'s Bar Alcohol to Purchase (ml) (Brand Name)')\n",
    "figTaylorAlBrCons = px.histogram(dfTaylor, x=dfTaylor.columns[2:3], y='Consumed (ml)', barmode='group', marginal='rug', color = 'Brand Name',color_discrete_sequence=px.colors.qualitative.G10, template='plotly_dark', title='Taylor\\'s Bar Alcohol to Consumed (ml) (Consumed (ml))')\n",
    "\n",
    "figThomasAlBrPur = px.histogram(dfThomas, x=dfThomas.columns[2:3], y='Purchase (ml)', barmode='group', marginal='rug', color = 'Brand Name',color_discrete_sequence=px.colors.qualitative.G10, template='plotly_dark', title='Thomas\\'s Bar Alcohol to Purchase (ml) (Brand Name)')\n",
    "figThomasAlBrCons = px.histogram(dfThomas, x=dfThomas.columns[2:3], y='Consumed (ml)', barmode='group', marginal='rug', color = 'Brand Name',color_discrete_sequence=px.colors.qualitative.G10, template='plotly_dark', title='Thomas\\'s Bar Alcohol to Consumed (ml) (Consumed (ml))')\n",
    "\n",
    "figAndersonAlBrPur.show()\n",
    "figBrownAlBrPur.show()\n",
    "figJohnsonAlBrPur.show()\n",
    "figSmithAlBrPur.show()\n",
    "figTaylorAlBrPur.show()\n",
    "figThomasAlBrPur.show()\n",
    "\n",
    "print(\"++++++++++++++++++++++++++++++++++++++++++++++++++++++++++++++++++++++++++++++++++++++++++++++++++++++++++++++++++++++++\")\n",
    "\n",
    "figAndersonAlBrCons.show()\n",
    "figBrownAlBrCons.show()\n",
    "figJohnsonAlBrCons.show()\n",
    "figSmithAlBrCons.show()\n",
    "figTaylorAlBrCons.show()\n",
    "figThomasAlBrCons.show()\n"
   ],
   "outputs": [],
   "execution_count": null
  },
  {
   "cell_type": "markdown",
   "id": "150567aedc2b6c4f",
   "metadata": {},
   "source": [
    "#### The below cell makes scatter plots for different bars with their EACH contribution to the Purchase (ml) vs Closing  Balance (ml). After that we comparison the Consumed (ml) to the Closing Balance (ml).\n",
    "We do this as spotted above that Purchase has a positive LINEAR REGRESSION with Closing Balance and as we proceed we spot that though all have an erratic nature, Taylor's Bar shows progress over time."
   ]
  },
  {
   "cell_type": "code",
   "id": "7afb62cd0e2d4cd1",
   "metadata": {},
   "source": [
    "\"\"\n",
    "figAndyBrPur = px.histogram(dfAnderson, x='Brand Name', y='Purchase (ml)', marginal='box', color = 'Brand Name',\n",
    "                            color_discrete_sequence=px.colors.qualitative.G10, template='plotly_dark', title='Brands').update_layout(bargap=0.1)\n",
    "figBrownBrPur = px.histogram(dfBrown, x='Brand Name', y='Purchase (ml)', marginal='box', color = 'Brand Name',\n",
    "                            color_discrete_sequence=px.colors.qualitative.G10, template='plotly_dark', title='Brands').update_layout(bargap=0.1)\n",
    "figSmithBrPur = px.histogram(dfSmith, x=dfSmith.columns[2:4], y='Purchase (ml)', barmode='group', marginal='rug', color = 'Brand Name',color_discrete_sequence=px.colors.qualitative.G10, title='Brands').update_layout(bargap=0.1)\n",
    "figSmithBrPur2 = px.histogram(dfSmith, x='Brand Name', y='Purchase (ml)', marginal='box', color = 'Brand Name',\n",
    "                            color_discrete_sequence=px.colors.qualitative.G10, template='plotly_dark', title='Brands').update_layout(bargap=0.1)\n",
    "\n",
    "figTayBrPur = px.histogram(dfTaylor, x='Brand Name', y='Purchase (ml)', marginal='box', color = 'Brand Name',\n",
    "                            color_discrete_sequence=px.colors.qualitative.G10, template='plotly_dark', title='Brands').update_layout(bargap=0.1)\n",
    "figThomBrPur = px.histogram(dfThomas, x='Brand Name', y='Purchase (ml)', marginal='box', color = 'Brand Name',\n",
    "                            color_discrete_sequence=px.colors.qualitative.G10, template='plotly_dark', title='Brands').update_layout(bargap=0.1)\n",
    "\n",
    "figAndyPurClose = px.scatter(dfAnderson, x='Purchase (ml)', y='Closing Balance (ml)', color = 'Alcohol Type',\n",
    "                     color_discrete_sequence=px.colors.qualitative.G10, template='plotly_dark', title='Anderson\\'s - Purchase To Closing Balance')\n",
    "figBrownPurClose = px.scatter(dfBrown, x='Purchase (ml)', y='Closing Balance (ml)', color = 'Alcohol Type',\n",
    "                     color_discrete_sequence=px.colors.qualitative.G10, template='plotly_dark', title='Brown\\'s - Purchase To Closing Balance')\n",
    "figJohnsonPurClose = px.scatter(dfJohnson, x='Purchase (ml)', y='Closing Balance (ml)', color = 'Alcohol Type',\n",
    "                     color_discrete_sequence=px.colors.qualitative.G10, template='plotly_dark', title='Smith\\'s - Purchase To Closing Balance')\n",
    "figSmithPurClose = px.scatter(dfSmith, x='Purchase (ml)', y='Closing Balance (ml)', color = 'Alcohol Type',\n",
    "                     color_discrete_sequence=px.colors.qualitative.G10, template='plotly_dark', title='Smith\\'s - Purchase To Closing Balance')\n",
    "figTayPurClose = px.scatter(dfTaylor, x='Purchase (ml)', y='Closing Balance (ml)', color = 'Alcohol Type',\n",
    "                     color_discrete_sequence=px.colors.qualitative.G10, template='plotly_dark', title='Taylor\\'s - Purchase To Closing Balance')\n",
    "figThomasPurClose = px.scatter(dfThomas, x='Purchase (ml)', y='Closing Balance (ml)', color = 'Alcohol Type',\n",
    "                     color_discrete_sequence=px.colors.qualitative.G10, template='plotly_dark', title='Thomas\\'s - Purchase To Closing Balance')\n",
    "\n",
    "\n",
    "# figAndyBrPur.show()\n",
    "# figBrownBrPur.show()\n",
    "# figSmithBrPur.show()\n",
    "# figSmithBrPur2.show()\n",
    "# figTayBrPur.show()\n",
    "# figThomBrPur.show()\n",
    "print(\"=================================================================================================================\")\n",
    "figAndyPurClose.show()\n",
    "figBrownPurClose.show()\n",
    "figJohnsonPurClose.show()\n",
    "figSmithPurClose.show()\n",
    "figTayPurClose.show()\n",
    "figThomasPurClose.show()\n"
   ],
   "outputs": [],
   "execution_count": null
  },
  {
   "cell_type": "markdown",
   "id": "43c6d00572a97697",
   "metadata": {},
   "source": [
    "#### For better visualization of the above graphs, the below cell gives a relation with pruchase of brand and alcohol types without consideration of segregating them but the have been sorted and can be understood with above graphs as to which brand belongs to which alcohol."
   ]
  },
  {
   "cell_type": "code",
   "id": "b8fc31250dcfce98",
   "metadata": {},
   "source": [
    "figAndyBrCons = px.histogram(dfAnderson,\n",
    "                     x='Brand Name',\n",
    "                     y='Consumed (ml)',\n",
    "                     marginal='box',\n",
    "                     color = 'Brand Name',\n",
    "                     color_discrete_sequence=px.colors.qualitative.G10,\n",
    "                     title='Anderson\\'s Bar - Brand to Consumed (ml)').update_layout(bargap=0.1)\n",
    "figBrownBrCons = px.histogram(dfBrown, x='Brand Name', y='Consumed (ml)', marginal='box',\n",
    "                     color = 'Brand Name', color_discrete_sequence=px.colors.qualitative.G10, template='plotly_dark', title='Brown\\'s Bar - Brand to Consumed (ml)').update_layout(bargap=0.1)\n",
    "figSmithBrCons = px.histogram(dfSmith, x='Brand Name', y='Consumed (ml)', marginal='box',\n",
    "                     color = 'Brand Name', color_discrete_sequence=px.colors.qualitative.G10, template='plotly_dark', title='Smith\\'s Bar - Brand to Consumed (ml)').update_layout(bargap=0.1)\n",
    "figJohnsonBrCons = px.histogram(dfJohnson, x='Brand Name', y='Consumed (ml)', marginal='box',\n",
    "                     color = 'Brand Name', color_discrete_sequence=px.colors.qualitative.G10, template='plotly_dark', title='Johnson\\'s Bar - Brand to Consumed (ml)').update_layout(bargap=0.1)\n",
    "figTayBrCons = px.histogram(dfTaylor, x='Brand Name', y='Consumed (ml)', marginal='box',\n",
    "                     color = 'Brand Name', color_discrete_sequence=px.colors.qualitative.G10, template='plotly_dark', title='Taylor\\'s Bar - Brand to Consumed (ml)').update_layout(bargap=0.1)\n",
    "figThomasBrCons = px.histogram(dfThomas, x='Brand Name', y='Consumed (ml)', marginal='box',\n",
    "                     color = 'Brand Name', color_discrete_sequence=px.colors.qualitative.G10, template='plotly_dark', title='Thomas\\'s Bar - Brand to Consumed (ml)').update_layout(bargap=0.1)\n",
    "\n",
    "figAndyBrCons.show()\n",
    "figBrownBrCons.show()\n",
    "figSmithBrCons.show()\n",
    "figJohnsonBrCons.show()\n",
    "figTayBrCons.show()\n",
    "figThomasBrCons.show()"
   ],
   "outputs": [],
   "execution_count": null
  },
  {
   "cell_type": "markdown",
   "id": "b433ff95f8c2a09",
   "metadata": {},
   "source": [
    "#### With this we can conclude that the following things:\n",
    "1. Purchase is considered a more viable option to Consumption\n",
    "2. Each bar contributes to the closing balance while Johnson's Bar has the highest contribution of _, Thomas's Bar has the lowest contribution of _\n",
    "3. The Bars with the highest requirement of inventory for each alcohol by brand name as well as, understanding pattern {Highest Alcohol}: {Highest Brand} over {Lowest Alcohol}:{Highest Brand}; {Rest with their Highest Brand}\n",
    "4. 1. Andy  - Wine: Barefoot, Whiskey: Jim Beam over Beer: Coors; for Rum:Captain Morgan and for Vodka: Smirnoff\n",
    "    2. Brown - Beer: Heineken, Vodka: Grey Goose over Rum: Bacardi; for Whiskey: Jameson and for Vodka: Grey Goose\n",
    "    3. Johnson - Beer: all near to equal except Miller, Vodka: Bacardi and Grey Goose over Whiskey: Jim Beam and Jack Daniel; for Rum: Captain Morgan and Malibu and Wine: Barefoot\n",
    "    4. Smith - Whiskey: Jim Beam, Vodka: Absolut and Grey Goose over Rum: Malibu; for Beer: Miller and Budweiser and Wine: all equivalently, Yellow Tail highest\n",
    "    5. Taylor - Beer: Budweiser and Coors, equivalently rest (hence linear regression) over Wine: Barefoot; for Whiskey: all equivalently, Rum(Captain Morgan and VodkaGrey Goose\n",
    "    6. Thomas - Rum: Miller and Budweiser, Vodka: Grey Goose over Rum(all literally equal; for Whiskey: Jack Daniels and Jim Beam and Wine: Barefoot and Yellow Tail\n",
    "5. Overall the Consumption has increased over the year as customers plan to Purhcase more than Consuming at all the bars!"
   ]
  }
 ],
 "metadata": {
  "kernelspec": {
   "display_name": "Python 3 (ipykernel)",
   "language": "python",
   "name": "python3"
  },
  "language_info": {
   "codemirror_mode": {
    "name": "ipython",
    "version": 3
   },
   "file_extension": ".py",
   "mimetype": "text/x-python",
   "name": "python",
   "nbconvert_exporter": "python",
   "pygments_lexer": "ipython3",
   "version": "3.12.4"
  }
 },
 "nbformat": 4,
 "nbformat_minor": 5
}
