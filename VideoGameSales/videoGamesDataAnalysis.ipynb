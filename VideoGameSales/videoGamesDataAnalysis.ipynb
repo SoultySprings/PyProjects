{
 "cells": [
  {
   "cell_type": "markdown",
   "id": "78faa4d10c888c28",
   "metadata": {},
   "source": [
    "# VGCharts till 2024 EDA (Exploratory Data Analysis) using pandas and plotly)!"
   ]
  },
  {
   "cell_type": "markdown",
   "id": "2b0928be0e429e75",
   "metadata": {},
   "source": [
    "## Reading, Framing and Fixing Dataframes start ->"
   ]
  },
  {
   "cell_type": "markdown",
   "id": "a05d40667a01c48a",
   "metadata": {},
   "source": [
    "### Import libraries and packages as well as reading `vgchartz-2024.csv`"
   ]
  },
  {
   "cell_type": "code",
   "id": "initial_id",
   "metadata": {},
   "source": [
    "import pandas as pd, plotly.express as px\n",
    "import seaborn as sns, matplotlib.pyplot as plt\n",
    "from dash import dcc\n",
    "from plotly.subplots import make_subplots as mks\n",
    "df = pd.read_csv(\"vgchartz-2024.csv\")\n",
    "dfN = df.copy()\n",
    "dfN = df.drop('img', axis=1)\n",
    "dfN.info()"
   ],
   "outputs": [],
   "execution_count": null
  },
  {
   "cell_type": "markdown",
   "id": "5f9e7e9a672d7b13",
   "metadata": {},
   "source": [
    "### Here the datetime has been converted into better format to remove the year for latter analysis"
   ]
  },
  {
   "cell_type": "code",
   "id": "8a6f1f141b82815e",
   "metadata": {},
   "source": [
    "dfN['release_date'] = pd.to_datetime(dfN['release_date'])\n",
    "dfN['rd_year'] = dfN['release_date'].dt.year\n",
    "dfN75_00 = dfN[dfN['rd_year'].astype('str').str.contains('1975|1976|1977|1978|1979|1980|1981|1982|1983|1984|1985|1986|1987|1988|1989|1990|1991|1992|1993|1994|1995|1996|1997|1998|1999')].drop(columns='last_update').copy()\n",
    "dfN01_25 = dfN[dfN['rd_year'].astype('str').str.contains('2000|2001|2002|2003|2004|2005|2006|2007|2008|2009|2010|2011|2012|2013|2014|2015|2016|2017|2018|2019|2020|2021|2022|2023|2024|2025')].copy()"
   ],
   "outputs": [],
   "execution_count": null
  },
  {
   "cell_type": "markdown",
   "id": "dea350131a35bdc5",
   "metadata": {},
   "source": [
    "### Finding unqiues across the `str` columns"
   ]
  },
  {
   "cell_type": "code",
   "id": "883a6752e1d49989",
   "metadata": {},
   "source": [
    "unqiueTitle = dfN['title'].unique()\n",
    "uniqueCon = dfN['console'].unique()\n",
    "uniqueGenre = dfN['genre'].unique()\n",
    "uniquePub = dfN['publisher'].unique()\n",
    "uniqueDev = dfN['developer'].unique()\n",
    "\n",
    "print(len(unqiueTitle))\n",
    "print(len(uniqueCon))\n",
    "print(len(uniqueGenre))\n",
    "print(len(uniquePub))\n",
    "print(len(uniqueDev))"
   ],
   "outputs": [],
   "execution_count": null
  },
  {
   "cell_type": "markdown",
   "id": "2941d5ce0ca745b1",
   "metadata": {},
   "source": [
    "## Analysis start ->"
   ]
  },
  {
   "cell_type": "markdown",
   "id": "59c4237730635d22",
   "metadata": {},
   "source": [
    "\n",
    "### TAKES THE HIGHEST SALES, FOR EACH GROUP, AND GIVES AN ANALYSIS FOR,\n",
    "### NOTE: The values are taken over the time, i.e, from 1977-2024\n",
    "#### 1. TITLES\n",
    "#### 2. PUBLISHERS\n",
    "#### 3. DEVELOPERS\n",
    "#### 4. CONSOLES"
   ]
  },
  {
   "cell_type": "markdown",
   "id": "b891d5b91be44684",
   "metadata": {},
   "source": [
    "### Popular Titles:"
   ]
  },
  {
   "metadata": {},
   "cell_type": "code",
   "source": "",
   "id": "b21797c9d350c236",
   "outputs": [],
   "execution_count": null
  },
  {
   "cell_type": "code",
   "id": "a20bf7418e047519",
   "metadata": {},
   "source": [
    "\n",
    "dfN_PopularTitles = dfN.drop(columns='release_date').drop(columns='last_update').drop(columns='rd_year').groupby(['title'], as_index=False).sum().copy()\n",
    "\n",
    "salesarr = {'total_sales':'Total Sales over the Globe','jp_sales':'Japan Sales','na_sales':'North America Sales','pal_sales':'Europe and Africa Sales','other_sales':'Other Sales across the Globe'}\n",
    "\n",
    "\n",
    "for key_a in salesarr:\n",
    "    HighestDf = dfN_PopularTitles.sort_values(by=f'{key_a}', ascending = False)[:15]\n",
    "    for key_b, value_b in salesarr.items():\n",
    "        if key_b == key_a:\n",
    "            figHist = px.histogram(HighestDf, x= HighestDf['title'], y = HighestDf[f'{key_b}'], color=HighestDf['title'], labels={'title': 'Game',f'{key_b}':'copies in million'}, color_discrete_sequence= [\"#4E79A7\", \"#F28E2B\", \"#E15759\", \"#76B7B2\", \"#59A14F\", \"#EDC949\", \"#AF7AA1\", \"#FF9DA7\", \"#9C755F\", \"#BAB0AC\", \"#1F77B4\", \"#FF7F0E\", \"#2CA02C\", \"#D62728\", \"#9467BD\"], text_auto=True, title=f'Highest Selling games based on {value_b}')\n",
    "            figHist.update_layout(height=750).show()"
   ],
   "outputs": [],
   "execution_count": null
  },
  {
   "cell_type": "markdown",
   "id": "38c530d88c0ed483",
   "metadata": {},
   "source": [
    "### Popular Publishers:"
   ]
  },
  {
   "cell_type": "code",
   "id": "da550f4342af05f9",
   "metadata": {},
   "source": [
    "dfN_PopPublishers_Sales = dfN.drop(columns='release_date').drop(columns='last_update').drop(columns='rd_year').groupby(['publisher'], as_index=False).sum().copy()\n",
    "\n",
    "for key_a in salesarr:\n",
    "    HighestDf = dfN_PopPublishers_Sales.sort_values(by=f'{key_a}', ascending = False)[:15]\n",
    "    for key_b, value_b in salesarr.items():\n",
    "        if key_b == key_a:\n",
    "            figHist = px.histogram(HighestDf, x= HighestDf['publisher'], y = HighestDf[f'{key_b}'], color=HighestDf['publisher'], labels={'publisher': 'Publisher',f'{key_b}':'copies in million'}, color_discrete_sequence= [\"#4E79A7\", \"#F28E2B\", \"#E15759\", \"#76B7B2\", \"#59A14F\", \"#EDC949\", \"#AF7AA1\", \"#FF9DA7\", \"#9C755F\", \"#BAB0AC\", \"#1F77B4\", \"#FF7F0E\", \"#2CA02C\", \"#D62728\", \"#9467BD\"], text_auto=True, title=f'Top Publishers that sold the most games based on {value_b}')\n",
    "            figHist.update_layout(height=750).show()"
   ],
   "outputs": [],
   "execution_count": null
  },
  {
   "cell_type": "markdown",
   "id": "dbee0e1ba3a05877",
   "metadata": {},
   "source": [
    "### Popular Developers:"
   ]
  },
  {
   "cell_type": "code",
   "id": "87c886f498aafa1c",
   "metadata": {},
   "source": [
    "dfN_PopDevelopers_Sales = dfN.drop(columns='release_date').drop(columns='last_update').drop(columns='rd_year').groupby(['developer'], as_index=False).sum().copy()\n",
    "\n",
    "for key_a in salesarr:\n",
    "    HighestDf = dfN_PopDevelopers_Sales.sort_values(by=f'{key_a}', ascending = False)[:15]\n",
    "    for key_b, value_b in salesarr.items():\n",
    "        if key_b == key_a:\n",
    "            figHist = px.histogram(HighestDf, x= HighestDf['developer'], y = HighestDf[f'{key_b}'], color=HighestDf['developer'], labels={'developer': 'Developer',f'{key_b}':'copies in million'}, color_discrete_sequence= [\"#4E79A7\", \"#F28E2B\", \"#E15759\", \"#76B7B2\", \"#59A14F\", \"#EDC949\", \"#AF7AA1\", \"#FF9DA7\", \"#9C755F\", \"#BAB0AC\", \"#1F77B4\", \"#FF7F0E\", \"#2CA02C\", \"#D62728\", \"#9467BD\"], text_auto=True, title=f'Top Developers that sold the most games based on {value_b}')\n",
    "            figHist.update_layout(height=750).show()"
   ],
   "outputs": [],
   "execution_count": null
  },
  {
   "cell_type": "markdown",
   "id": "5072fe5cae311266",
   "metadata": {},
   "source": [
    "### Popular Consoles:"
   ]
  },
  {
   "cell_type": "code",
   "id": "66f70e45ab4369d8",
   "metadata": {},
   "source": [
    "dfN_PopularConsole = dfN.drop(columns='release_date').drop(columns='last_update').drop(columns='rd_year').groupby(['console'], as_index=False).sum().copy()\n",
    "\n",
    "for key_a in salesarr:\n",
    "    HighestDf = dfN_PopularConsole.sort_values(by=f'{key_a}', ascending = False)[:15]\n",
    "    for key_b, value_b in salesarr.items():\n",
    "        if key_b == key_a:\n",
    "            figHist = px.histogram(HighestDf, x= HighestDf['console'], y = HighestDf[f'{key_b}'], color=HighestDf['console'], labels={'console': 'Console',f'{key_b}':'copies in million'}, color_discrete_sequence= [\"#4E79A7\", \"#F28E2B\", \"#E15759\", \"#76B7B2\", \"#59A14F\", \"#EDC949\", \"#AF7AA1\", \"#FF9DA7\", \"#9C755F\", \"#BAB0AC\", \"#1F77B4\", \"#FF7F0E\", \"#2CA02C\", \"#D62728\", \"#9467BD\"], text_auto=True, title=f'Top Consoles that contributed to {value_b}')\n",
    "            figHist.update_layout(height=750).show()"
   ],
   "outputs": [],
   "execution_count": null
  },
  {
   "cell_type": "markdown",
   "id": "55ec45d54bbcddef",
   "metadata": {},
   "source": [
    "### ON THE BASIS OF CRITIC SCORES\n",
    "#### Note : `Following caution must be taken that the critic score are considered with accordance to the total sales overall, this is done as most games don't have a critic score for particular consoles, while others dont have any. This affects the overall mean() and so has been ignored.`"
   ]
  },
  {
   "cell_type": "code",
   "id": "789cbd36cb1d67b2",
   "metadata": {},
   "source": [
    "dfNa = dfN[dfN['critic_score'] != 0].copy()\n",
    "\n",
    "dfNb = dfNa.drop(columns=['release_date', 'last_update', 'rd_year', 'developer', 'publisher', 'console', 'genre']).groupby(by='title')['critic_score'].mean().to_numpy()\n",
    "\n",
    "dfNc = dfNa.drop(columns=['release_date', 'last_update', 'rd_year', 'developer', 'publisher', 'console', 'genre', 'critic_score']).groupby(by=['title'], as_index=False).sum()\n",
    "\n",
    "\n",
    "dfNc['critic_score_mean'] = dfNb\n",
    "dfNc = dfNc.sort_values(by=['total_sales','critic_score_mean'], ascending = False).head(15)\n",
    "\n",
    "figHist2 = px.histogram(dfNc, x='title',y='critic_score_mean',color='title',color_discrete_sequence=[\"#4E79A7\", \"#F28E2B\", \"#E15759\", \"#76B7B2\", \"#59A14F\", \"#EDC949\", \"#AF7AA1\", \"#FF9DA7\", \"#9C755F\", \"#BAB0AC\", \"#1F77B4\", \"#FF7F0E\", \"#2CA02C\", \"#D62728\", \"#9467BD\"],title='Critic Score with respect to Total sales across the Globe')\n",
    "figHist2.update_layout(height=750).show()"
   ],
   "outputs": [],
   "execution_count": null
  },
  {
   "cell_type": "markdown",
   "id": "bcd4db2d6d6f2a7b",
   "metadata": {},
   "source": [
    "### THIS DISPLAYS WHICH GENRE IS PREFERED ON THE BASIS OF THE SALES\n",
    "#### FIRST IS OVERALL, THE REST IS FROM YEAR 1975-2000 AND THEN 2001-2024"
   ]
  },
  {
   "cell_type": "code",
   "id": "fe0b67c391a9ec6",
   "metadata": {},
   "source": [
    "dfN_PopGenre = dfN.drop(columns=['release_date','last_update']).groupby(['genre'], as_index=False).sum().copy()\n",
    "dfN_PopGenre_75_00 = dfN75_00.drop(columns='release_date').groupby(['genre'], as_index=False).sum().copy()\n",
    "dfN_PopGenre_01_25 = dfN01_25.drop(columns='release_date').groupby(['genre'], as_index=False).sum().copy()\n",
    "\n",
    "\n",
    "print('These are the genres that have been popular over the time, i.e. from 1975-2025')\n",
    "for value in salesarr:\n",
    "    pie_fig = px.pie(dfN_PopGenre, values=f'{value}', names='genre',labels={f'{value}':f'{value}', 'genre':'Genre'}, color_discrete_sequence=px.colors.qualitative.Vivid, title=f'The sales are given with accordance to {value}')\n",
    "    pie_fig.show()\n",
    "\n",
    "print('These are the genres that have been popular from 1975-2000')\n",
    "for value in salesarr:\n",
    "    pie_fig = px.pie(dfN_PopGenre_75_00, values=f'{value}', names='genre',labels={f'{value}':f'{value}', 'genre':'Genre'}, color_discrete_sequence=px.colors.qualitative.Vivid, title=f'The sales are given with accordance to {value}')\n",
    "    pie_fig.show()\n",
    "\n",
    "print('These are the genres that have been popular from 2001-2024')\n",
    "for value in salesarr:\n",
    "    pie_fig = px.pie(dfN_PopGenre_01_25, values=f'{value}', names='genre',labels={f'{value}':f'{value}', 'genre':'Genre'}, color_discrete_sequence=px.colors.qualitative.Vivid, title=f'The sales are given with accordance to {value}')\n",
    "    pie_fig.update_layout(height=750).show()"
   ],
   "outputs": [],
   "execution_count": null
  },
  {
   "cell_type": "markdown",
   "id": "7f6bab62138dfd65",
   "metadata": {},
   "source": [
    "### THE FOLLOWING SEGREGATES THE ABOVE DATAFRAME INTO 1975-2000 AND 2001-2024\n",
    "#### NOTE: `HOWEVER GAMES WITHOUT RELEASE DATE HAVE BEEN IGNORED AS THE DATASET DOESN'T INCLUDE IT AND ASSUMING DATES WOULD HAMPER THE DATA ANALYSIS`"
   ]
  },
  {
   "cell_type": "markdown",
   "id": "95f926a9c8ccff55",
   "metadata": {},
   "source": [
    "### Popular Titles :"
   ]
  },
  {
   "cell_type": "code",
   "id": "369d9ca80072e5fd",
   "metadata": {},
   "source": [
    "dfN_PopTitles_Sales_75_00 = dfN75_00.drop(columns=['release_date','rd_year']).groupby(['title'], as_index=False).sum().copy()\n",
    "\n",
    "for key_a in salesarr:\n",
    "    HighestDf = dfN_PopTitles_Sales_75_00.sort_values(by=f'{key_a}', ascending = False)[:15]\n",
    "    for key_b, value_b in salesarr.items():\n",
    "        if key_b == key_a:\n",
    "            figHist = px.histogram(HighestDf, x= HighestDf['title'], y = HighestDf[f'{key_b}'], color=HighestDf['title'], labels={'title': 'Games',f'{key_b}':'copies in million'}, color_discrete_sequence= [\"#4E79A7\", \"#F28E2B\", \"#E15759\", \"#76B7B2\", \"#59A14F\", \"#EDC949\", \"#AF7AA1\", \"#FF9DA7\", \"#9C755F\", \"#BAB0AC\", \"#1F77B4\", \"#FF7F0E\", \"#2CA02C\", \"#D62728\", \"#9467BD\"], text_auto=True, title=f'Highest Selling Games from 1975-2000 based on {value_b}')\n",
    "            figHist.update_layout(height=750).show()\n",
    "\n",
    "dfN_PopTitles_Sales_01_25 = dfN01_25.drop(columns=['release_date','rd_year']).groupby(['title'], as_index=False).sum().copy()\n",
    "\n",
    "for key_a in salesarr:\n",
    "    HighestDf = dfN_PopTitles_Sales_01_25.sort_values(by=f'{key_a}', ascending = False)[:15]\n",
    "    for key_b, value_b in salesarr.items():\n",
    "        if key_b == key_a:\n",
    "            figHist = px.histogram(HighestDf, x= HighestDf['title'], y = HighestDf[f'{key_b}'], color=HighestDf['title'], labels={'title': 'Games',f'{key_b}':'copies in million'}, color_discrete_sequence= [\"#4E79A7\", \"#F28E2B\", \"#E15759\", \"#76B7B2\", \"#59A14F\", \"#EDC949\", \"#AF7AA1\", \"#FF9DA7\", \"#9C755F\", \"#BAB0AC\", \"#1F77B4\", \"#FF7F0E\", \"#2CA02C\", \"#D62728\", \"#9467BD\"], text_auto=True, title=f'Highest Selling Games from 2001-2024 based on {value_b}')\n",
    "            figHist.update_layout(height=750).show()"
   ],
   "outputs": [],
   "execution_count": null
  },
  {
   "cell_type": "markdown",
   "id": "b098aa15bbc61383",
   "metadata": {},
   "source": [
    "### Popular Developers :"
   ]
  },
  {
   "cell_type": "code",
   "id": "2efc5cbf087a1a39",
   "metadata": {},
   "source": [
    "dfN_PopDevelopers_Sales_75_00 = dfN75_00.drop(columns=['release_date','rd_year']).groupby(['developer'], as_index=False).sum().copy()\n",
    "\n",
    "for key_a in salesarr:\n",
    "    HighestDf = dfN_PopDevelopers_Sales_75_00.sort_values(by=f'{key_a}', ascending = False)[:15]\n",
    "    for key_b, value_b in salesarr.items():\n",
    "        if key_b == key_a:\n",
    "            figHist = px.histogram(HighestDf, x= HighestDf['developer'], y = HighestDf[f'{key_b}'], color=HighestDf['developer'], labels={'developer': 'Developer',f'{key_b}':'copies in million'}, color_discrete_sequence= [\"#4E79A7\", \"#F28E2B\", \"#E15759\", \"#76B7B2\", \"#59A14F\", \"#EDC949\", \"#AF7AA1\", \"#FF9DA7\", \"#9C755F\", \"#BAB0AC\", \"#1F77B4\", \"#FF7F0E\", \"#2CA02C\", \"#D62728\", \"#9467BD\"], text_auto=True, title=f'Top Developers during 1975-2000 based on {value_b}')\n",
    "            figHist.update_layout(height=750).show()\n",
    "\n",
    "dfN_PopDevelopers_Sales_01_25 = dfN01_25.drop(columns=['release_date','rd_year']).groupby(['developer'], as_index=False).sum().copy()\n",
    "\n",
    "for key_a in salesarr:\n",
    "    HighestDf = dfN_PopDevelopers_Sales_01_25.sort_values(by=f'{key_a}', ascending = False)[:15]\n",
    "    for key_b, value_b in salesarr.items():\n",
    "        if key_b == key_a:\n",
    "            figHist = px.histogram(HighestDf, x= HighestDf['developer'], y = HighestDf[f'{key_b}'], color=HighestDf['developer'], labels={'developer': 'Developer',f'{key_b}':'copies in million'}, color_discrete_sequence= [\"#4E79A7\", \"#F28E2B\", \"#E15759\", \"#76B7B2\", \"#59A14F\", \"#EDC949\", \"#AF7AA1\", \"#FF9DA7\", \"#9C755F\", \"#BAB0AC\", \"#1F77B4\", \"#FF7F0E\", \"#2CA02C\", \"#D62728\", \"#9467BD\"], text_auto=True, title=f'Top Developers during 2001-2024 based on {value_b}')\n",
    "            figHist.update_layout(height=750).show()"
   ],
   "outputs": [],
   "execution_count": null
  },
  {
   "cell_type": "markdown",
   "id": "2e371945403f4289",
   "metadata": {},
   "source": [
    "### Popular Publishers :"
   ]
  },
  {
   "cell_type": "code",
   "id": "4c6842edcf0c3014",
   "metadata": {},
   "source": [
    "dfN_PopPublishers_Sales_75_00 = dfN75_00.drop(columns=['release_date','rd_year']).groupby(['publisher'], as_index=False).sum().copy()\n",
    "\n",
    "for key_a in salesarr:\n",
    "    HighestDf = dfN_PopPublishers_Sales_75_00.sort_values(by=f'{key_a}', ascending = False)[:15]\n",
    "    for key_b, value_b in salesarr.items():\n",
    "        if key_b == key_a:\n",
    "            figHist = px.histogram(HighestDf, x= HighestDf['publisher'], y = HighestDf[f'{key_b}'], color=HighestDf['publisher'], labels={'publisher': 'Publisher',f'{key_b}':'copies in million'}, color_discrete_sequence= [\"#4E79A7\", \"#F28E2B\", \"#E15759\", \"#76B7B2\", \"#59A14F\", \"#EDC949\", \"#AF7AA1\", \"#FF9DA7\", \"#9C755F\", \"#BAB0AC\", \"#1F77B4\", \"#FF7F0E\", \"#2CA02C\", \"#D62728\", \"#9467BD\"], text_auto=True, title=f'Top Publishers during 1975-2000 based on {value_b}')\n",
    "            figHist.update_layout(height=750).show()\n",
    "\n",
    "dfN_PopPublishers_Sales_01_25 = dfN01_25.drop(columns=['release_date','rd_year']).groupby(['publisher'], as_index=False).sum().copy()\n",
    "\n",
    "for key_a in salesarr:\n",
    "    HighestDf = dfN_PopPublishers_Sales_01_25.sort_values(by=f'{key_a}', ascending = False)[:15]\n",
    "    for key_b, value_b in salesarr.items():\n",
    "        if key_b == key_a:\n",
    "            figHist = px.histogram(HighestDf, x= HighestDf['publisher'], y = HighestDf[f'{key_b}'], color=HighestDf['publisher'], labels={'publisher': 'Publisher',f'{key_b}':'copies in million'}, color_discrete_sequence= [\"#4E79A7\", \"#F28E2B\", \"#E15759\", \"#76B7B2\", \"#59A14F\", \"#EDC949\", \"#AF7AA1\", \"#FF9DA7\", \"#9C755F\", \"#BAB0AC\", \"#1F77B4\", \"#FF7F0E\", \"#2CA02C\", \"#D62728\", \"#9467BD\"], text_auto=True, title=f'Top Publishers during 2001-2024 based on {value_b}')\n",
    "            figHist.update_layout(height=750).show()"
   ],
   "outputs": [],
   "execution_count": null
  },
  {
   "cell_type": "markdown",
   "id": "663a7afe116d5414",
   "metadata": {},
   "source": [
    "### Popular Consoles :"
   ]
  },
  {
   "cell_type": "code",
   "id": "c24dd9b0094b05cd",
   "metadata": {},
   "source": [
    "dfN_PopConsoles_Sales_75_00 = dfN75_00.drop(columns=['release_date','rd_year']).groupby(['console'], as_index=False).sum().copy()\n",
    "\n",
    "for key_a in salesarr:\n",
    "    HighestDf = dfN_PopConsoles_Sales_75_00.sort_values(by=f'{key_a}', ascending = False)[:15]\n",
    "    for key_b, value_b in salesarr.items():\n",
    "        if key_b == key_a:\n",
    "            figHist = px.histogram(HighestDf, x= HighestDf['console'], y = HighestDf[f'{key_b}'], color=HighestDf['console'], labels={'console': 'Developer',f'{key_b}':'copies in million'}, color_discrete_sequence= [\"#4E79A7\", \"#F28E2B\", \"#E15759\", \"#76B7B2\", \"#59A14F\", \"#EDC949\", \"#AF7AA1\", \"#FF9DA7\", \"#9C755F\", \"#BAB0AC\", \"#1F77B4\", \"#FF7F0E\", \"#2CA02C\", \"#D62728\", \"#9467BD\"], text_auto=True, title=f'Top Consoles during 1975-2000 based on {value_b}')\n",
    "            figHist.update_layout(height=750).show()\n",
    "\n",
    "dfN_PopConsoles_Sales_01_25 = dfN01_25.drop(columns=['release_date','rd_year']).groupby(['console'], as_index=False).sum().copy()\n",
    "\n",
    "for key_a in salesarr:\n",
    "    HighestDf = dfN_PopConsoles_Sales_01_25.sort_values(by=f'{key_a}', ascending = False)[:15]\n",
    "    for key_b, value_b in salesarr.items():\n",
    "        if key_b == key_a:\n",
    "            figHist = px.histogram(HighestDf, x= HighestDf['console'], y = HighestDf[f'{key_b}'], color=HighestDf['console'], labels={'console': 'Developer',f'{key_b}':'copies in million'}, color_discrete_sequence= [\"#4E79A7\", \"#F28E2B\", \"#E15759\", \"#76B7B2\", \"#59A14F\", \"#EDC949\", \"#AF7AA1\", \"#FF9DA7\", \"#9C755F\", \"#BAB0AC\", \"#1F77B4\", \"#FF7F0E\", \"#2CA02C\", \"#D62728\", \"#9467BD\"], text_auto=True, title=f'Top Consoles during 2001-2024 based on {value_b}')\n",
    "            figHist.update_layout(height=750).show()\n",
    "\n"
   ],
   "outputs": [],
   "execution_count": null
  },
  {
   "metadata": {},
   "cell_type": "markdown",
   "source": "### Following consist of Funnel plots",
   "id": "a452e03c532947fe"
  },
  {
   "metadata": {},
   "cell_type": "code",
   "source": [
    "dfN_S = dfN.dropna(subset=['total_sales','na_sales','jp_sales','pal_sales','other_sales']).copy()\n",
    "\n",
    "dfN_Scatter = dfN_S.drop(columns='release_date').drop(columns='last_update').drop(columns='rd_year').groupby(['genre'], as_index=False).sum().copy()\n",
    "\n",
    "for key_a, value_a in salesarr.items():\n",
    "    HighestDf = dfN_Scatter.sort_values(by=f'{key_a}', ascending = False)\n",
    "    figFunnel = px.funnel(HighestDf, x= HighestDf['genre'], y = HighestDf[f'{key_a}'], color='genre', labels={'title': 'Games',f'{key_a}':'copies in million'}, color_discrete_sequence=\n",
    "    [\"#4E79A7\", \"#F28E2B\", \"#E15759\", \"#76B7B2\", \"#59A14F\", \"#EDC949\", \"#AF7AA1\", \"#FF9DA7\", \"#9C755F\", \"#BAB0AC\", \"#1F77B4\", \"#FF7F0E\", \"#2CA02C\", \"#D62728\", \"#9467BD\"], title=f'{value_a}')\n",
    "    # figHeat = px.density_heatmap(HighestDf,x= HighestDf[f'{key_b}'], y = HighestDf['total_sales'])\n",
    "    # figHeat.show()\n",
    "    figFunnel.update_layout(height=750).show()\n"
   ],
   "id": "fb484f13fff86a47",
   "outputs": [],
   "execution_count": null
  },
  {
   "metadata": {},
   "cell_type": "code",
   "source": [
    "dfN_Titles = dfN.drop(columns='release_date').drop(columns='last_update').drop(columns='rd_year').groupby(['title'], as_index=False).sum().copy()\n",
    "\n",
    "for key_a, value_a in salesarr.items():\n",
    "    HighestDf = dfN_Titles.sort_values(by=f'{key_a}', ascending = False)[:20]\n",
    "    figFunnel = px.funnel(HighestDf, x= HighestDf['title'], y = HighestDf[f'{key_a}'], color='title', labels={'title': 'Games',f'{key_b}':'copies in million'}, color_discrete_sequence=\n",
    "    [\"#4E79A7\", \"#F28E2B\", \"#E15759\", \"#76B7B2\", \"#59A14F\", \"#EDC949\", \"#AF7AA1\", \"#FF9DA7\", \"#9C755F\", \"#BAB0AC\", \"#1F77B4\", \"#FF7F0E\", \"#2CA02C\", \"#D62728\", \"#9467BD\"], title=f'{value_a}')\n",
    "    # figHeat = px.density_heatmap(HighestDf,x= HighestDf[f'{key_b}'], y = HighestDf['total_sales'])\n",
    "    # figHeat.show()\n",
    "    figFunnel.update_layout(height=750).show()"
   ],
   "id": "7bb18da8a5709611",
   "outputs": [],
   "execution_count": null
  },
  {
   "metadata": {},
   "cell_type": "code",
   "source": "",
   "id": "d4a7addd9f775d24",
   "outputs": [],
   "execution_count": null
  }
 ],
 "metadata": {
  "kernelspec": {
   "display_name": "Python 3 (ipykernel)",
   "language": "python",
   "name": "python3"
  },
  "language_info": {
   "codemirror_mode": {
    "name": "ipython",
    "version": 3
   },
   "file_extension": ".py",
   "mimetype": "text/x-python",
   "name": "python",
   "nbconvert_exporter": "python",
   "pygments_lexer": "ipython3",
   "version": "3.12.4"
  }
 },
 "nbformat": 4,
 "nbformat_minor": 5
}
