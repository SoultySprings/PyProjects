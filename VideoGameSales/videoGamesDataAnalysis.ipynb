{
 "cells": [
  {
   "cell_type": "code",
   "id": "initial_id",
   "metadata": {
    "collapsed": true,
    "ExecuteTime": {
     "end_time": "2025-06-04T12:34:14.348047Z",
     "start_time": "2025-06-04T12:34:14.341186Z"
    }
   },
   "source": [
    "import pandas as pd, plotly.express as px, numpy as np\n",
    "import dash_bootstrap_components as dbc\n",
    "from dash import dcc, html, Dash, Input, Output"
   ],
   "outputs": [],
   "execution_count": 50
  },
  {
   "metadata": {
    "ExecuteTime": {
     "end_time": "2025-06-04T12:57:19.199127Z",
     "start_time": "2025-06-04T12:57:18.992778Z"
    }
   },
   "cell_type": "code",
   "source": [
    "df = pd.read_csv('vgchartz-2024.csv')\n",
    "dfN = df.drop('img', axis=1)\n",
    "dfN.info()\n"
   ],
   "id": "d7af3645c2f4d1d4",
   "outputs": [
    {
     "name": "stdout",
     "output_type": "stream",
     "text": [
      "<class 'pandas.core.frame.DataFrame'>\n",
      "RangeIndex: 64016 entries, 0 to 64015\n",
      "Data columns (total 13 columns):\n",
      " #   Column        Non-Null Count  Dtype  \n",
      "---  ------        --------------  -----  \n",
      " 0   title         64016 non-null  object \n",
      " 1   console       64016 non-null  object \n",
      " 2   genre         64016 non-null  object \n",
      " 3   publisher     64016 non-null  object \n",
      " 4   developer     63999 non-null  object \n",
      " 5   critic_score  6678 non-null   float64\n",
      " 6   total_sales   18922 non-null  float64\n",
      " 7   na_sales      12637 non-null  float64\n",
      " 8   jp_sales      6726 non-null   float64\n",
      " 9   pal_sales     12824 non-null  float64\n",
      " 10  other_sales   15128 non-null  float64\n",
      " 11  release_date  56965 non-null  object \n",
      " 12  last_update   17879 non-null  object \n",
      "dtypes: float64(6), object(7)\n",
      "memory usage: 6.3+ MB\n"
     ]
    }
   ],
   "execution_count": 84
  },
  {
   "metadata": {
    "ExecuteTime": {
     "end_time": "2025-06-04T13:37:22.383075Z",
     "start_time": "2025-06-04T13:37:21.713539Z"
    }
   },
   "cell_type": "code",
   "source": [
    "dfN['release_date'] = pd.to_datetime(dfN['release_date'], errors=\"coerce\")\n",
    "dfN['last_update'] = pd.to_datetime(dfN['last_update'], errors=\"coerce\")\n",
    "dfN['total_sales'] = pd.to_numeric(dfN['total_sales'], errors=\"coerce\")\n",
    "dfN['na_sales'] = pd.to_numeric(dfN['na_sales'], errors=\"coerce\")\n",
    "dfN['jp_sales'] = pd.to_numeric(dfN['jp_sales'], errors=\"coerce\")\n",
    "dfN['pal_sales'] = pd.to_numeric(dfN['pal_sales'], errors=\"coerce\")\n",
    "dfN['other_sales'] = pd.to_numeric(dfN['other_sales'], errors=\"coerce\")\n",
    "dfN['critic_score'] = pd.to_numeric(dfN['critic_score'], errors=\"coerce\")\n",
    "dfN['last_update'].fillna('None', inplace = True)\n",
    "dfN['total_sales'].fillna('None', inplace = True)\n",
    "dfN['na_sales'].fillna('None', inplace = True)\n",
    "dfN['jp_sales'].fillna('None', inplace = True)\n",
    "dfN['pal_sales'].fillna('None', inplace = True)\n",
    "dfN['other_sales'].fillna('None', inplace = True)\n",
    "dfN['critic_score'].fillna('None', inplace = True)\n",
    "dfN['developer'].fillna('None', inplace = True)\n",
    "\n",
    "\n",
    "\n",
    "dfN['rd_year'] = dfN['release_date'].dt.year\n",
    "dfN75_84 = dfN[dfN['rd_year'].astype('str').str.contains('1975|1976|1977|1978|1979|1980|1981|1982|1983|1984')].copy()\n",
    "dfN85_94 = dfN[dfN['rd_year'].astype('str').str.contains('1985|1986|1987|1988|1989|1990|1991|1992|1993|1994')].copy()\n",
    "dfN95_04 = dfN[dfN['rd_year'].astype('str').str.contains('1995|1996|1997|1998|1999|2000|2001|2002|2003|2004')].copy()\n",
    "dfN05_14 = dfN[dfN['rd_year'].astype('str').str.contains('2005|2006|2007|2008|2009|2010|2011|2012|2013|2014')].copy()\n",
    "dfN15_24 = dfN[dfN['rd_year'].astype('str').str.contains('2015|2016|2017|2018|2019|2020|2021|2022|2023|2024')].copy()\n",
    "# dfNUpdates = dfN[dfN['last_update'].astype('str') != ].copy()\n",
    "\n",
    "# print(dfN75_84.info())\n",
    "# print(dfN85_94.info())\n",
    "# print(dfN95_04.info())\n",
    "# print(dfN05_14.info())\n",
    "# print(dfN15_24.info())\n",
    "dfN['release_date'].fillna('None', inplace = True)\n",
    "dfN['rd_year'].fillna('None', inplace = True)\n",
    "dfN.info()"
   ],
   "id": "8a6f1f141b82815e",
   "outputs": [
    {
     "name": "stderr",
     "output_type": "stream",
     "text": [
      "C:\\Users\\Tanishq\\AppData\\Local\\Temp\\ipykernel_19704\\1197934220.py:2: UserWarning: Could not infer format, so each element will be parsed individually, falling back to `dateutil`. To ensure parsing is consistent and as-expected, please specify a format.\n",
      "  dfN['last_update'] = pd.to_datetime(dfN['last_update'], errors=\"coerce\")\n",
      "C:\\Users\\Tanishq\\AppData\\Local\\Temp\\ipykernel_19704\\1197934220.py:9: FutureWarning: A value is trying to be set on a copy of a DataFrame or Series through chained assignment using an inplace method.\n",
      "The behavior will change in pandas 3.0. This inplace method will never work because the intermediate object on which we are setting values always behaves as a copy.\n",
      "\n",
      "For example, when doing 'df[col].method(value, inplace=True)', try using 'df.method({col: value}, inplace=True)' or df[col] = df[col].method(value) instead, to perform the operation inplace on the original object.\n",
      "\n",
      "\n",
      "  dfN['last_update'].fillna('None', inplace = True)\n",
      "C:\\Users\\Tanishq\\AppData\\Local\\Temp\\ipykernel_19704\\1197934220.py:9: FutureWarning: Setting an item of incompatible dtype is deprecated and will raise an error in a future version of pandas. Value 'None' has dtype incompatible with datetime64[ns], please explicitly cast to a compatible dtype first.\n",
      "  dfN['last_update'].fillna('None', inplace = True)\n",
      "C:\\Users\\Tanishq\\AppData\\Local\\Temp\\ipykernel_19704\\1197934220.py:10: FutureWarning: A value is trying to be set on a copy of a DataFrame or Series through chained assignment using an inplace method.\n",
      "The behavior will change in pandas 3.0. This inplace method will never work because the intermediate object on which we are setting values always behaves as a copy.\n",
      "\n",
      "For example, when doing 'df[col].method(value, inplace=True)', try using 'df.method({col: value}, inplace=True)' or df[col] = df[col].method(value) instead, to perform the operation inplace on the original object.\n",
      "\n",
      "\n",
      "  dfN['total_sales'].fillna('None', inplace = True)\n",
      "C:\\Users\\Tanishq\\AppData\\Local\\Temp\\ipykernel_19704\\1197934220.py:10: FutureWarning: Setting an item of incompatible dtype is deprecated and will raise an error in a future version of pandas. Value 'None' has dtype incompatible with float64, please explicitly cast to a compatible dtype first.\n",
      "  dfN['total_sales'].fillna('None', inplace = True)\n",
      "C:\\Users\\Tanishq\\AppData\\Local\\Temp\\ipykernel_19704\\1197934220.py:11: FutureWarning: A value is trying to be set on a copy of a DataFrame or Series through chained assignment using an inplace method.\n",
      "The behavior will change in pandas 3.0. This inplace method will never work because the intermediate object on which we are setting values always behaves as a copy.\n",
      "\n",
      "For example, when doing 'df[col].method(value, inplace=True)', try using 'df.method({col: value}, inplace=True)' or df[col] = df[col].method(value) instead, to perform the operation inplace on the original object.\n",
      "\n",
      "\n",
      "  dfN['na_sales'].fillna('None', inplace = True)\n",
      "C:\\Users\\Tanishq\\AppData\\Local\\Temp\\ipykernel_19704\\1197934220.py:11: FutureWarning: Setting an item of incompatible dtype is deprecated and will raise an error in a future version of pandas. Value 'None' has dtype incompatible with float64, please explicitly cast to a compatible dtype first.\n",
      "  dfN['na_sales'].fillna('None', inplace = True)\n",
      "C:\\Users\\Tanishq\\AppData\\Local\\Temp\\ipykernel_19704\\1197934220.py:12: FutureWarning: A value is trying to be set on a copy of a DataFrame or Series through chained assignment using an inplace method.\n",
      "The behavior will change in pandas 3.0. This inplace method will never work because the intermediate object on which we are setting values always behaves as a copy.\n",
      "\n",
      "For example, when doing 'df[col].method(value, inplace=True)', try using 'df.method({col: value}, inplace=True)' or df[col] = df[col].method(value) instead, to perform the operation inplace on the original object.\n",
      "\n",
      "\n",
      "  dfN['jp_sales'].fillna('None', inplace = True)\n",
      "C:\\Users\\Tanishq\\AppData\\Local\\Temp\\ipykernel_19704\\1197934220.py:12: FutureWarning: Setting an item of incompatible dtype is deprecated and will raise an error in a future version of pandas. Value 'None' has dtype incompatible with float64, please explicitly cast to a compatible dtype first.\n",
      "  dfN['jp_sales'].fillna('None', inplace = True)\n",
      "C:\\Users\\Tanishq\\AppData\\Local\\Temp\\ipykernel_19704\\1197934220.py:13: FutureWarning: A value is trying to be set on a copy of a DataFrame or Series through chained assignment using an inplace method.\n",
      "The behavior will change in pandas 3.0. This inplace method will never work because the intermediate object on which we are setting values always behaves as a copy.\n",
      "\n",
      "For example, when doing 'df[col].method(value, inplace=True)', try using 'df.method({col: value}, inplace=True)' or df[col] = df[col].method(value) instead, to perform the operation inplace on the original object.\n",
      "\n",
      "\n",
      "  dfN['pal_sales'].fillna('None', inplace = True)\n",
      "C:\\Users\\Tanishq\\AppData\\Local\\Temp\\ipykernel_19704\\1197934220.py:13: FutureWarning: Setting an item of incompatible dtype is deprecated and will raise an error in a future version of pandas. Value 'None' has dtype incompatible with float64, please explicitly cast to a compatible dtype first.\n",
      "  dfN['pal_sales'].fillna('None', inplace = True)\n",
      "C:\\Users\\Tanishq\\AppData\\Local\\Temp\\ipykernel_19704\\1197934220.py:14: FutureWarning: A value is trying to be set on a copy of a DataFrame or Series through chained assignment using an inplace method.\n",
      "The behavior will change in pandas 3.0. This inplace method will never work because the intermediate object on which we are setting values always behaves as a copy.\n",
      "\n",
      "For example, when doing 'df[col].method(value, inplace=True)', try using 'df.method({col: value}, inplace=True)' or df[col] = df[col].method(value) instead, to perform the operation inplace on the original object.\n",
      "\n",
      "\n",
      "  dfN['other_sales'].fillna('None', inplace = True)\n",
      "C:\\Users\\Tanishq\\AppData\\Local\\Temp\\ipykernel_19704\\1197934220.py:14: FutureWarning: Setting an item of incompatible dtype is deprecated and will raise an error in a future version of pandas. Value 'None' has dtype incompatible with float64, please explicitly cast to a compatible dtype first.\n",
      "  dfN['other_sales'].fillna('None', inplace = True)\n",
      "C:\\Users\\Tanishq\\AppData\\Local\\Temp\\ipykernel_19704\\1197934220.py:15: FutureWarning: A value is trying to be set on a copy of a DataFrame or Series through chained assignment using an inplace method.\n",
      "The behavior will change in pandas 3.0. This inplace method will never work because the intermediate object on which we are setting values always behaves as a copy.\n",
      "\n",
      "For example, when doing 'df[col].method(value, inplace=True)', try using 'df.method({col: value}, inplace=True)' or df[col] = df[col].method(value) instead, to perform the operation inplace on the original object.\n",
      "\n",
      "\n",
      "  dfN['critic_score'].fillna('None', inplace = True)\n",
      "C:\\Users\\Tanishq\\AppData\\Local\\Temp\\ipykernel_19704\\1197934220.py:15: FutureWarning: Setting an item of incompatible dtype is deprecated and will raise an error in a future version of pandas. Value 'None' has dtype incompatible with float64, please explicitly cast to a compatible dtype first.\n",
      "  dfN['critic_score'].fillna('None', inplace = True)\n",
      "C:\\Users\\Tanishq\\AppData\\Local\\Temp\\ipykernel_19704\\1197934220.py:16: FutureWarning: A value is trying to be set on a copy of a DataFrame or Series through chained assignment using an inplace method.\n",
      "The behavior will change in pandas 3.0. This inplace method will never work because the intermediate object on which we are setting values always behaves as a copy.\n",
      "\n",
      "For example, when doing 'df[col].method(value, inplace=True)', try using 'df.method({col: value}, inplace=True)' or df[col] = df[col].method(value) instead, to perform the operation inplace on the original object.\n",
      "\n",
      "\n",
      "  dfN['developer'].fillna('None', inplace = True)\n"
     ]
    },
    {
     "name": "stdout",
     "output_type": "stream",
     "text": [
      "<class 'pandas.core.frame.DataFrame'>\n",
      "RangeIndex: 64016 entries, 0 to 64015\n",
      "Data columns (total 14 columns):\n",
      " #   Column        Non-Null Count  Dtype \n",
      "---  ------        --------------  ----- \n",
      " 0   title         64016 non-null  object\n",
      " 1   console       64016 non-null  object\n",
      " 2   genre         64016 non-null  object\n",
      " 3   publisher     64016 non-null  object\n",
      " 4   developer     64016 non-null  object\n",
      " 5   critic_score  64016 non-null  object\n",
      " 6   total_sales   64016 non-null  object\n",
      " 7   na_sales      64016 non-null  object\n",
      " 8   jp_sales      64016 non-null  object\n",
      " 9   pal_sales     64016 non-null  object\n",
      " 10  other_sales   64016 non-null  object\n",
      " 11  release_date  64016 non-null  object\n",
      " 12  last_update   64016 non-null  object\n",
      " 13  rd_year       64016 non-null  object\n",
      "dtypes: object(14)\n",
      "memory usage: 6.8+ MB\n"
     ]
    },
    {
     "name": "stderr",
     "output_type": "stream",
     "text": [
      "C:\\Users\\Tanishq\\AppData\\Local\\Temp\\ipykernel_19704\\1197934220.py:33: FutureWarning: A value is trying to be set on a copy of a DataFrame or Series through chained assignment using an inplace method.\n",
      "The behavior will change in pandas 3.0. This inplace method will never work because the intermediate object on which we are setting values always behaves as a copy.\n",
      "\n",
      "For example, when doing 'df[col].method(value, inplace=True)', try using 'df.method({col: value}, inplace=True)' or df[col] = df[col].method(value) instead, to perform the operation inplace on the original object.\n",
      "\n",
      "\n",
      "  dfN['release_date'].fillna('None', inplace = True)\n",
      "C:\\Users\\Tanishq\\AppData\\Local\\Temp\\ipykernel_19704\\1197934220.py:33: FutureWarning: Setting an item of incompatible dtype is deprecated and will raise an error in a future version of pandas. Value 'None' has dtype incompatible with datetime64[ns], please explicitly cast to a compatible dtype first.\n",
      "  dfN['release_date'].fillna('None', inplace = True)\n",
      "C:\\Users\\Tanishq\\AppData\\Local\\Temp\\ipykernel_19704\\1197934220.py:34: FutureWarning: A value is trying to be set on a copy of a DataFrame or Series through chained assignment using an inplace method.\n",
      "The behavior will change in pandas 3.0. This inplace method will never work because the intermediate object on which we are setting values always behaves as a copy.\n",
      "\n",
      "For example, when doing 'df[col].method(value, inplace=True)', try using 'df.method({col: value}, inplace=True)' or df[col] = df[col].method(value) instead, to perform the operation inplace on the original object.\n",
      "\n",
      "\n",
      "  dfN['rd_year'].fillna('None', inplace = True)\n",
      "C:\\Users\\Tanishq\\AppData\\Local\\Temp\\ipykernel_19704\\1197934220.py:34: FutureWarning: Setting an item of incompatible dtype is deprecated and will raise an error in a future version of pandas. Value 'None' has dtype incompatible with float64, please explicitly cast to a compatible dtype first.\n",
      "  dfN['rd_year'].fillna('None', inplace = True)\n"
     ]
    }
   ],
   "execution_count": 152
  },
  {
   "metadata": {
    "ExecuteTime": {
     "end_time": "2025-06-04T13:38:30.166034Z",
     "start_time": "2025-06-04T13:38:29.762681Z"
    }
   },
   "cell_type": "code",
   "source": "dfN.to_csv('vgchartzBetter.csv')",
   "id": "ca51a56dac000007",
   "outputs": [],
   "execution_count": 153
  },
  {
   "metadata": {
    "ExecuteTime": {
     "end_time": "2025-06-04T13:36:04.682240Z",
     "start_time": "2025-06-04T13:36:04.650831Z"
    }
   },
   "cell_type": "code",
   "source": [
    "unqiueTitle = dfN['title'].unique()\n",
    "uniqueCon = dfN['console'].unique()\n",
    "uniqueGenre = dfN['genre'].unique()\n",
    "uniquePub = dfN['publisher'].unique()\n",
    "uniqueDev = dfN['developer'].unique()\n",
    "\n",
    "print(len(unqiueTitle))\n",
    "print(len(uniqueCon))\n",
    "print(len(uniqueGenre))\n",
    "print(len(uniquePub))\n",
    "print(len(uniqueDev))"
   ],
   "id": "883a6752e1d49989",
   "outputs": [
    {
     "name": "stdout",
     "output_type": "stream",
     "text": [
      "39798\n",
      "81\n",
      "20\n",
      "3383\n",
      "8863\n"
     ]
    }
   ],
   "execution_count": 150
  },
  {
   "metadata": {
    "ExecuteTime": {
     "end_time": "2025-06-04T12:48:46.674079Z",
     "start_time": "2025-06-04T12:48:46.635135Z"
    }
   },
   "cell_type": "code",
   "source": [
    "highest_Title = dfN.title.value_counts()[:10].index.tolist()\n",
    "highest_Console = dfN.console.value_counts()[:10].index.tolist()\n",
    "highest_Genre = dfN.genre.value_counts()[:5].index.tolist()\n",
    "highest_Publisher = dfN.publisher.value_counts()[:5].index.tolist()\n",
    "highest_Developer = dfN.developer.value_counts()[:5].index.tolist()\n",
    "print(f'{highest_Console}, \\n{highest_Genre}, \\n{highest_Publisher}, \\n{highest_Developer}, \\n{highest_Title}')"
   ],
   "id": "6bf944a38df59483",
   "outputs": [
    {
     "name": "stdout",
     "output_type": "stream",
     "text": [
      "['PC', 'PS2', 'DS', 'PS4', 'PS', 'NS', 'XBL', 'PSN', 'XOne', 'PS3'], \n",
      "['Misc', 'Action', 'Adventure', 'Role-Playing', 'Sports'], \n",
      "['Unknown', 'Sega', 'Ubisoft', 'Electronic Arts', 'Activision'], \n",
      "['Unknown', 'Konami', 'Sega', 'Capcom', 'Namco'], \n",
      "['Plants vs. Zombies', 'Pac-Man', 'Monopoly', 'Doom', 'Double Dragon', 'Elite', 'Samurai Shodown', 'Lemmings', 'Minecraft', 'Resident Evil 4']\n"
     ]
    }
   ],
   "execution_count": 79
  },
  {
   "metadata": {},
   "cell_type": "code",
   "outputs": [],
   "execution_count": null,
   "source": "",
   "id": "beba146be4b09f5f"
  }
 ],
 "metadata": {
  "kernelspec": {
   "display_name": "Python 3",
   "language": "python",
   "name": "python3"
  },
  "language_info": {
   "codemirror_mode": {
    "name": "ipython",
    "version": 2
   },
   "file_extension": ".py",
   "mimetype": "text/x-python",
   "name": "python",
   "nbconvert_exporter": "python",
   "pygments_lexer": "ipython2",
   "version": "2.7.6"
  }
 },
 "nbformat": 4,
 "nbformat_minor": 5
}
