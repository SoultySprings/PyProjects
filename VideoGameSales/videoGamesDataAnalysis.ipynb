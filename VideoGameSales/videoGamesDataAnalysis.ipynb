{
 "cells": [
  {
   "metadata": {},
   "cell_type": "markdown",
   "source": "# VGCharts till 2024 EDA (Exploratory Data Analysis) using pandas and plotly)!",
   "id": "78faa4d10c888c28"
  },
  {
   "metadata": {},
   "cell_type": "markdown",
   "source": "## Reading, Framing and Fixing Dataframes start ->",
   "id": "2b0928be0e429e75"
  },
  {
   "metadata": {},
   "cell_type": "markdown",
   "source": "### Import libraries and packages as well as reading `vgchartz-2024.csv`",
   "id": "a05d40667a01c48a"
  },
  {
   "cell_type": "code",
   "id": "initial_id",
   "metadata": {
    "collapsed": true
   },
   "source": [
    "import pandas as pd, plotly.express as px\n",
    "df = pd.read_csv('vgchartz-2024.csv')\n",
    "dfN = df.copy()\n",
    "dfN = df.drop('img', axis=1)\n",
    "dfN.info()"
   ],
   "outputs": [],
   "execution_count": null
  },
  {
   "metadata": {},
   "cell_type": "markdown",
   "source": "### Here the datetime has been converted into better format to remove the year for latter analysis",
   "id": "5f9e7e9a672d7b13"
  },
  {
   "metadata": {},
   "cell_type": "code",
   "source": [
    "dfN['release_date'] = pd.to_datetime(dfN['release_date'])\n",
    "dfN['rd_year'] = dfN['release_date'].dt.year\n",
    "dfN75_00 = dfN[dfN['rd_year'].astype('str').str.contains('1975|1976|1977|1978|1979|1980|1981|1982|1983|1984|1985|1986|1987|1988|1989|1990|1991|1992|1993|1994|1995|1996|1997|1998|1999')].drop(columns='last_update').copy()\n",
    "dfN01_25 = dfN[dfN['rd_year'].astype('str').str.contains('2000|2001|2002|2003|2004|2005|2006|2007|2008|2009|2010|2011|2012|2013|2014|2015|2016|2017|2018|2019|2020|2021|2022|2023|2024|2025')].copy()\n",
    "dfN01_25.sort_values(by='rd_year', ascending=False).head(5)"
   ],
   "id": "8a6f1f141b82815e",
   "outputs": [],
   "execution_count": null
  },
  {
   "metadata": {},
   "cell_type": "markdown",
   "source": "### Finding unqiues across the `str` columns",
   "id": "dea350131a35bdc5"
  },
  {
   "metadata": {},
   "cell_type": "code",
   "source": [
    "unqiueTitle = dfN['title'].unique()\n",
    "uniqueCon = dfN['console'].unique()\n",
    "uniqueGenre = dfN['genre'].unique()\n",
    "uniquePub = dfN['publisher'].unique()\n",
    "uniqueDev = dfN['developer'].unique()\n",
    "\n",
    "print(len(unqiueTitle))\n",
    "print(len(uniqueCon))\n",
    "print(len(uniqueGenre))\n",
    "print(len(uniquePub))\n",
    "print(len(uniqueDev))"
   ],
   "id": "883a6752e1d49989",
   "outputs": [],
   "execution_count": null
  },
  {
   "metadata": {},
   "cell_type": "markdown",
   "source": "## Analysis start ->",
   "id": "2941d5ce0ca745b1"
  },
  {
   "metadata": {},
   "cell_type": "markdown",
   "source": [
    "\n",
    "### TAKES THE HIGHEST SALES, FOR EACH GROUP, AND GIVES AN ANALYSIS FOR,\n",
    "### NOTE: The values are taken over the time, i.e, from 1977-2024\n",
    "#### 1. TITLES\n",
    "#### 2. PUBLISHERS\n",
    "#### 3. DEVELOPERS\n",
    "#### 4. CONSOLES"
   ],
   "id": "59c4237730635d22"
  },
  {
   "metadata": {},
   "cell_type": "markdown",
   "source": "### Popular Titles:",
   "id": "b891d5b91be44684"
  },
  {
   "metadata": {},
   "cell_type": "code",
   "source": [
    "\n",
    "dfN_PopularTitles = dfN.drop(columns='release_date').drop(columns='last_update').drop(columns='rd_year').groupby(['title'], as_index=False).sum().copy()\n",
    "\n",
    "salesarr = {'total_sales':'Total Sales over the Globe','jp_sales':'Japan Sales','na_sales':'North America Sales','pal_sales':'Europe and Africa Sales','other_sales':'Other Sales across the Globe'}\n",
    "\n",
    "for key_a in salesarr:\n",
    "    HighestDf = dfN_PopularTitles.sort_values(by=f'{key_a}', ascending = False)[:15]\n",
    "    for key_b, value_b in salesarr.items():\n",
    "        if key_b == key_a:\n",
    "            figHist = px.histogram(HighestDf, x= HighestDf['title'], y = HighestDf[f'{key_b}'], color=HighestDf['title'], labels={'title': 'Game',f'{key_b}':'copies in million'}, color_discrete_sequence= [\"#4E79A7\", \"#F28E2B\", \"#E15759\", \"#76B7B2\", \"#59A14F\", \"#EDC949\", \"#AF7AA1\", \"#FF9DA7\", \"#9C755F\", \"#BAB0AC\", \"#1F77B4\", \"#FF7F0E\", \"#2CA02C\", \"#D62728\", \"#9467BD\"], text_auto=True, title=f'Highest Selling games based on {value_b}')\n",
    "            figHist.show()"
   ],
   "id": "a20bf7418e047519",
   "outputs": [],
   "execution_count": null
  },
  {
   "metadata": {},
   "cell_type": "markdown",
   "source": "### Popular Publishers:",
   "id": "38c530d88c0ed483"
  },
  {
   "metadata": {},
   "cell_type": "code",
   "source": [
    "dfN_PopPublishers_Sales = dfN.drop(columns='release_date').drop(columns='last_update').drop(columns='rd_year').groupby(['publisher'], as_index=False).sum().copy()\n",
    "\n",
    "for key_a in salesarr:\n",
    "    HighestDf = dfN_PopPublishers_Sales.sort_values(by=f'{key_a}', ascending = False)[:15]\n",
    "    for key_b, value_b in salesarr.items():\n",
    "        if key_b == key_a:\n",
    "            figHist = px.histogram(HighestDf, x= HighestDf['publisher'], y = HighestDf[f'{key_b}'], color=HighestDf['publisher'], labels={'publisher': 'Publisher',f'{key_b}':'copies in million'}, color_discrete_sequence= [\"#4E79A7\", \"#F28E2B\", \"#E15759\", \"#76B7B2\", \"#59A14F\", \"#EDC949\", \"#AF7AA1\", \"#FF9DA7\", \"#9C755F\", \"#BAB0AC\", \"#1F77B4\", \"#FF7F0E\", \"#2CA02C\", \"#D62728\", \"#9467BD\"], text_auto=True, title=f'Top Publishers that sold the most games based on {value_b}')\n",
    "            figHist.show()"
   ],
   "id": "da550f4342af05f9",
   "outputs": [],
   "execution_count": null
  },
  {
   "metadata": {},
   "cell_type": "markdown",
   "source": "### Popular Developers:",
   "id": "dbee0e1ba3a05877"
  },
  {
   "metadata": {},
   "cell_type": "code",
   "source": [
    "dfN_PopDevelopers_Sales = dfN.drop(columns='release_date').drop(columns='last_update').drop(columns='rd_year').groupby(['developer'], as_index=False).sum().copy()\n",
    "\n",
    "for key_a in salesarr:\n",
    "    HighestDf = dfN_PopDevelopers_Sales.sort_values(by=f'{key_a}', ascending = False)[:15]\n",
    "    for key_b, value_b in salesarr.items():\n",
    "        if key_b == key_a:\n",
    "            figHist = px.histogram(HighestDf, x= HighestDf['developer'], y = HighestDf[f'{key_b}'], color=HighestDf['developer'], labels={'developer': 'Developer',f'{key_b}':'copies in million'}, color_discrete_sequence= [\"#4E79A7\", \"#F28E2B\", \"#E15759\", \"#76B7B2\", \"#59A14F\", \"#EDC949\", \"#AF7AA1\", \"#FF9DA7\", \"#9C755F\", \"#BAB0AC\", \"#1F77B4\", \"#FF7F0E\", \"#2CA02C\", \"#D62728\", \"#9467BD\"], text_auto=True, title=f'Top Developers that sold the most games based on {value_b}')\n",
    "            figHist.show()"
   ],
   "id": "87c886f498aafa1c",
   "outputs": [],
   "execution_count": null
  },
  {
   "metadata": {},
   "cell_type": "markdown",
   "source": "### Popular Consoles:",
   "id": "5072fe5cae311266"
  },
  {
   "metadata": {},
   "cell_type": "code",
   "source": [
    "dfN_PopularConsole = dfN.drop(columns='release_date').drop(columns='last_update').drop(columns='rd_year').groupby(['console'], as_index=False).sum().copy()\n",
    "\n",
    "for key_a in salesarr:\n",
    "    HighestDf = dfN_PopularConsole.sort_values(by=f'{key_a}', ascending = False)[:15]\n",
    "    for key_b, value_b in salesarr.items():\n",
    "        if key_b == key_a:\n",
    "            figHist = px.histogram(HighestDf, x= HighestDf['console'], y = HighestDf[f'{key_b}'], color=HighestDf['console'], labels={'console': 'Console',f'{key_b}':'copies in million'}, color_discrete_sequence= [\"#4E79A7\", \"#F28E2B\", \"#E15759\", \"#76B7B2\", \"#59A14F\", \"#EDC949\", \"#AF7AA1\", \"#FF9DA7\", \"#9C755F\", \"#BAB0AC\", \"#1F77B4\", \"#FF7F0E\", \"#2CA02C\", \"#D62728\", \"#9467BD\"], text_auto=True, title=f'Top Consoles that contributed to {value_b}')\n",
    "            figHist.show()"
   ],
   "id": "66f70e45ab4369d8",
   "outputs": [],
   "execution_count": null
  },
  {
   "metadata": {},
   "cell_type": "markdown",
   "source": [
    "### ON THE BASIS OF CRITIC SCORES\n",
    "#### Note : `Following caution must be taken that the critic score are considered with accordance to the total sales overall, this is done as most games don't have a critic score for particular consoles, while others dont have any. This affects the overall mean() and so has been ignored.`"
   ],
   "id": "55ec45d54bbcddef"
  },
  {
   "metadata": {},
   "cell_type": "code",
   "source": [
    "dfNa = dfN[dfN['critic_score'] != 0].copy()\n",
    "\n",
    "dfNb = dfNa.drop(columns=['release_date', 'last_update', 'rd_year', 'developer', 'publisher', 'console', 'genre']).groupby(by='title')['critic_score'].mean().to_numpy()\n",
    "\n",
    "dfNc = dfNa.drop(columns=['release_date', 'last_update', 'rd_year', 'developer', 'publisher', 'console', 'genre', 'critic_score']).groupby(by=['title'], as_index=False).sum()\n",
    "\n",
    "\n",
    "dfNc['critic_score_mean'] = dfNb\n",
    "dfNc = dfNc.sort_values(by=['total_sales','critic_score_mean'], ascending = False).head(15)\n",
    "\n",
    "figHist2 = px.histogram(dfNc, x='title',y='critic_score_mean',color='title',color_discrete_sequence=[\"#4E79A7\", \"#F28E2B\", \"#E15759\", \"#76B7B2\", \"#59A14F\", \"#EDC949\", \"#AF7AA1\", \"#FF9DA7\", \"#9C755F\", \"#BAB0AC\", \"#1F77B4\", \"#FF7F0E\", \"#2CA02C\", \"#D62728\", \"#9467BD\"],title='Critic Score with respect to Total sales across the Globe')\n",
    "figHist2.show()"
   ],
   "id": "789cbd36cb1d67b2",
   "outputs": [],
   "execution_count": null
  },
  {
   "metadata": {},
   "cell_type": "markdown",
   "source": [
    "### THIS DISPLAYS WHICH GENRE IS PREFERED ON THE BASIS OF THE SALES\n",
    "#### FIRST IS OVERALL, THE REST IS FROM YEAR 1975-2000 AND THEN 2001-2024"
   ],
   "id": "bcd4db2d6d6f2a7b"
  },
  {
   "metadata": {},
   "cell_type": "code",
   "source": [
    "dfN_PopGenre = dfN.drop(columns=['release_date','last_update']).groupby(['genre'], as_index=False).sum().copy()\n",
    "dfN_PopGenre_75_00 = dfN75_00.drop(columns='release_date').groupby(['genre'], as_index=False).sum().copy()\n",
    "dfN_PopGenre_01_25 = dfN01_25.drop(columns='release_date').groupby(['genre'], as_index=False).sum().copy()\n",
    "\n",
    "\n",
    "print('These are the genres that have been popular over the time, i.e. from 1975-2025')\n",
    "for value in salesarr:\n",
    "    pie_fig = px.pie(dfN_PopGenre, values=f'{value}', names='genre',labels={f'{value}':f'{value}', 'genre':'Genre'}, color_discrete_sequence=px.colors.qualitative.Vivid, title=f'The sales are given with accordance to {value}')\n",
    "    pie_fig.show()\n",
    "\n",
    "print('These are the genres that have been popular from 1975-2000')\n",
    "for value in salesarr:\n",
    "    pie_fig = px.pie(dfN_PopGenre_75_00, values=f'{value}', names='genre',labels={f'{value}':f'{value}', 'genre':'Genre'}, color_discrete_sequence=px.colors.qualitative.Vivid, title=f'The sales are given with accordance to {value}')\n",
    "    pie_fig.show()\n",
    "\n",
    "print('These are the genres that have been popular from 2001-2024')\n",
    "for value in salesarr:\n",
    "    pie_fig = px.pie(dfN_PopGenre_01_25, values=f'{value}', names='genre',labels={f'{value}':f'{value}', 'genre':'Genre'}, color_discrete_sequence=px.colors.qualitative.Vivid, title=f'The sales are given with accordance to {value}')\n",
    "    pie_fig.show()"
   ],
   "id": "fe0b67c391a9ec6",
   "outputs": [],
   "execution_count": null
  },
  {
   "metadata": {},
   "cell_type": "markdown",
   "source": [
    "### THE FOLLOWING SEGREGATES THE ABOVE DATAFRAME INTO 1975-2000 AND 2001-2024\n",
    "#### NOTE: `HOWEVER GAMES WITHOUT RELEASE DATE HAVE BEEN IGNORED AS THE DATASET DOESN'T INCLUDE IT AND ASSUMING DATES WOULD HAMPER THE DATA ANALYSIS`"
   ],
   "id": "7f6bab62138dfd65"
  },
  {
   "metadata": {},
   "cell_type": "markdown",
   "source": "### Popular Titles :",
   "id": "95f926a9c8ccff55"
  },
  {
   "metadata": {},
   "cell_type": "code",
   "source": [
    "dfN_PopTitles_Sales_75_00 = dfN75_00.drop(columns=['release_date','rd_year']).groupby(['title'], as_index=False).sum().copy()\n",
    "\n",
    "for key_a in salesarr:\n",
    "    HighestDf = dfN_PopTitles_Sales_75_00.sort_values(by=f'{key_a}', ascending = False)[:15]\n",
    "    for key_b, value_b in salesarr.items():\n",
    "        if key_b == key_a:\n",
    "            figHist = px.histogram(HighestDf, x= HighestDf['title'], y = HighestDf[f'{key_b}'], color=HighestDf['title'], labels={'title': 'Games',f'{key_b}':'copies in million'}, color_discrete_sequence= [\"#4E79A7\", \"#F28E2B\", \"#E15759\", \"#76B7B2\", \"#59A14F\", \"#EDC949\", \"#AF7AA1\", \"#FF9DA7\", \"#9C755F\", \"#BAB0AC\", \"#1F77B4\", \"#FF7F0E\", \"#2CA02C\", \"#D62728\", \"#9467BD\"], text_auto=True, title=f'Highest Selling Games from 1975-2000 based on {value_b}')\n",
    "            figHist.show()\n",
    "\n",
    "dfN_PopTitles_Sales_01_25 = dfN01_25.drop(columns=['release_date','rd_year']).groupby(['title'], as_index=False).sum().copy()\n",
    "\n",
    "for key_a in salesarr:\n",
    "    HighestDf = dfN_PopTitles_Sales_01_25.sort_values(by=f'{key_a}', ascending = False)[:15]\n",
    "    for key_b, value_b in salesarr.items():\n",
    "        if key_b == key_a:\n",
    "            figHist = px.histogram(HighestDf, x= HighestDf['title'], y = HighestDf[f'{key_b}'], color=HighestDf['title'], labels={'title': 'Games',f'{key_b}':'copies in million'}, color_discrete_sequence= [\"#4E79A7\", \"#F28E2B\", \"#E15759\", \"#76B7B2\", \"#59A14F\", \"#EDC949\", \"#AF7AA1\", \"#FF9DA7\", \"#9C755F\", \"#BAB0AC\", \"#1F77B4\", \"#FF7F0E\", \"#2CA02C\", \"#D62728\", \"#9467BD\"], text_auto=True, title=f'Highest Selling Games from 2001-2024 based on {value_b}')\n",
    "            figHist.show()"
   ],
   "id": "369d9ca80072e5fd",
   "outputs": [],
   "execution_count": null
  },
  {
   "metadata": {},
   "cell_type": "markdown",
   "source": "### Popular Developers :",
   "id": "b098aa15bbc61383"
  },
  {
   "metadata": {},
   "cell_type": "code",
   "source": [
    "dfN_PopDevelopers_Sales_75_00 = dfN75_00.drop(columns=['release_date','rd_year']).groupby(['developer'], as_index=False).sum().copy()\n",
    "\n",
    "for key_a in salesarr:\n",
    "    HighestDf = dfN_PopDevelopers_Sales_75_00.sort_values(by=f'{key_a}', ascending = False)[:15]\n",
    "    for key_b, value_b in salesarr.items():\n",
    "        if key_b == key_a:\n",
    "            figHist = px.histogram(HighestDf, x= HighestDf['developer'], y = HighestDf[f'{key_b}'], color=HighestDf['developer'], labels={'developer': 'Developer',f'{key_b}':'copies in million'}, color_discrete_sequence= [\"#4E79A7\", \"#F28E2B\", \"#E15759\", \"#76B7B2\", \"#59A14F\", \"#EDC949\", \"#AF7AA1\", \"#FF9DA7\", \"#9C755F\", \"#BAB0AC\", \"#1F77B4\", \"#FF7F0E\", \"#2CA02C\", \"#D62728\", \"#9467BD\"], text_auto=True, title=f'Top Developers during 1975-2000 based on {value_b}')\n",
    "            figHist.show()\n",
    "\n",
    "dfN_PopDevelopers_Sales_01_25 = dfN01_25.drop(columns=['release_date','rd_year']).groupby(['developer'], as_index=False).sum().copy()\n",
    "\n",
    "for key_a in salesarr:\n",
    "    HighestDf = dfN_PopDevelopers_Sales_01_25.sort_values(by=f'{key_a}', ascending = False)[:15]\n",
    "    for key_b, value_b in salesarr.items():\n",
    "        if key_b == key_a:\n",
    "            figHist = px.histogram(HighestDf, x= HighestDf['developer'], y = HighestDf[f'{key_b}'], color=HighestDf['developer'], labels={'developer': 'Developer',f'{key_b}':'copies in million'}, color_discrete_sequence= [\"#4E79A7\", \"#F28E2B\", \"#E15759\", \"#76B7B2\", \"#59A14F\", \"#EDC949\", \"#AF7AA1\", \"#FF9DA7\", \"#9C755F\", \"#BAB0AC\", \"#1F77B4\", \"#FF7F0E\", \"#2CA02C\", \"#D62728\", \"#9467BD\"], text_auto=True, title=f'Top Developers during 2001-2024 based on {value_b}')\n",
    "            figHist.show()"
   ],
   "id": "2efc5cbf087a1a39",
   "outputs": [],
   "execution_count": null
  },
  {
   "metadata": {},
   "cell_type": "markdown",
   "source": "### Popular Publishers :",
   "id": "2e371945403f4289"
  },
  {
   "metadata": {},
   "cell_type": "code",
   "source": [
    "dfN_PopPublishers_Sales_75_00 = dfN75_00.drop(columns=['release_date','rd_year']).groupby(['publisher'], as_index=False).sum().copy()\n",
    "\n",
    "for key_a in salesarr:\n",
    "    HighestDf = dfN_PopPublishers_Sales_75_00.sort_values(by=f'{key_a}', ascending = False)[:15]\n",
    "    for key_b, value_b in salesarr.items():\n",
    "        if key_b == key_a:\n",
    "            figHist = px.histogram(HighestDf, x= HighestDf['publisher'], y = HighestDf[f'{key_b}'], color=HighestDf['publisher'], labels={'publisher': 'Publisher',f'{key_b}':'copies in million'}, color_discrete_sequence= [\"#4E79A7\", \"#F28E2B\", \"#E15759\", \"#76B7B2\", \"#59A14F\", \"#EDC949\", \"#AF7AA1\", \"#FF9DA7\", \"#9C755F\", \"#BAB0AC\", \"#1F77B4\", \"#FF7F0E\", \"#2CA02C\", \"#D62728\", \"#9467BD\"], text_auto=True, title=f'Top Publishers during 1975-2000 based on {value_b}')\n",
    "            figHist.show()\n",
    "\n",
    "dfN_PopPublishers_Sales_01_25 = dfN01_25.drop(columns=['release_date','rd_year']).groupby(['publisher'], as_index=False).sum().copy()\n",
    "\n",
    "for key_a in salesarr:\n",
    "    HighestDf = dfN_PopPublishers_Sales_01_25.sort_values(by=f'{key_a}', ascending = False)[:15]\n",
    "    for key_b, value_b in salesarr.items():\n",
    "        if key_b == key_a:\n",
    "            figHist = px.histogram(HighestDf, x= HighestDf['publisher'], y = HighestDf[f'{key_b}'], color=HighestDf['publisher'], labels={'publisher': 'Publisher',f'{key_b}':'copies in million'}, color_discrete_sequence= [\"#4E79A7\", \"#F28E2B\", \"#E15759\", \"#76B7B2\", \"#59A14F\", \"#EDC949\", \"#AF7AA1\", \"#FF9DA7\", \"#9C755F\", \"#BAB0AC\", \"#1F77B4\", \"#FF7F0E\", \"#2CA02C\", \"#D62728\", \"#9467BD\"], text_auto=True, title=f'Top Publishers during 2001-2024 based on {value_b}')\n",
    "            figHist.show()"
   ],
   "id": "4c6842edcf0c3014",
   "outputs": [],
   "execution_count": null
  },
  {
   "metadata": {},
   "cell_type": "markdown",
   "source": "### Popular Consoles :",
   "id": "663a7afe116d5414"
  },
  {
   "metadata": {},
   "cell_type": "code",
   "source": [
    "dfN_PopConsoles_Sales_75_00 = dfN75_00.drop(columns=['release_date','rd_year']).groupby(['console'], as_index=False).sum().copy()\n",
    "\n",
    "for key_a in salesarr:\n",
    "    HighestDf = dfN_PopConsoles_Sales_75_00.sort_values(by=f'{key_a}', ascending = False)[:15]\n",
    "    for key_b, value_b in salesarr.items():\n",
    "        if key_b == key_a:\n",
    "            figHist = px.histogram(HighestDf, x= HighestDf['console'], y = HighestDf[f'{key_b}'], color=HighestDf['console'], labels={'console': 'Developer',f'{key_b}':'copies in million'}, color_discrete_sequence= [\"#4E79A7\", \"#F28E2B\", \"#E15759\", \"#76B7B2\", \"#59A14F\", \"#EDC949\", \"#AF7AA1\", \"#FF9DA7\", \"#9C755F\", \"#BAB0AC\", \"#1F77B4\", \"#FF7F0E\", \"#2CA02C\", \"#D62728\", \"#9467BD\"], text_auto=True, title=f'Top Consoles during 1975-2000 based on {value_b}')\n",
    "            figHist.show()\n",
    "\n",
    "dfN_PopConsoles_Sales_01_25 = dfN01_25.drop(columns=['release_date','rd_year']).groupby(['console'], as_index=False).sum().copy()\n",
    "\n",
    "for key_a in salesarr:\n",
    "    HighestDf = dfN_PopConsoles_Sales_01_25.sort_values(by=f'{key_a}', ascending = False)[:15]\n",
    "    for key_b, value_b in salesarr.items():\n",
    "        if key_b == key_a:\n",
    "            figHist = px.histogram(HighestDf, x= HighestDf['console'], y = HighestDf[f'{key_b}'], color=HighestDf['console'], labels={'console': 'Developer',f'{key_b}':'copies in million'}, color_discrete_sequence= [\"#4E79A7\", \"#F28E2B\", \"#E15759\", \"#76B7B2\", \"#59A14F\", \"#EDC949\", \"#AF7AA1\", \"#FF9DA7\", \"#9C755F\", \"#BAB0AC\", \"#1F77B4\", \"#FF7F0E\", \"#2CA02C\", \"#D62728\", \"#9467BD\"], text_auto=True, title=f'Top Consoles during 2001-2024 based on {value_b}')\n",
    "            figHist.show()\n",
    "\n"
   ],
   "id": "c24dd9b0094b05cd",
   "outputs": [],
   "execution_count": null
  }
 ],
 "metadata": {
  "kernelspec": {
   "display_name": "Python 3",
   "language": "python",
   "name": "python3"
  },
  "language_info": {
   "codemirror_mode": {
    "name": "ipython",
    "version": 2
   },
   "file_extension": ".py",
   "mimetype": "text/x-python",
   "name": "python",
   "nbconvert_exporter": "python",
   "pygments_lexer": "ipython2",
   "version": "2.7.6"
  }
 },
 "nbformat": 4,
 "nbformat_minor": 5
}
