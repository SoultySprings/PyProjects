{
 "cells": [
  {
   "cell_type": "code",
   "id": "initial_id",
   "metadata": {
    "collapsed": true,
    "ExecuteTime": {
     "end_time": "2025-06-05T05:42:57.041852Z",
     "start_time": "2025-06-05T05:42:57.036224Z"
    }
   },
   "source": [
    "import pandas as pd, plotly.express as px, numpy as np\n",
    "import plotly.io as pio\n",
    "import dash_bootstrap_components as dbc\n",
    "from dash import dcc, html, Dash, Input, Output"
   ],
   "outputs": [],
   "execution_count": 198
  },
  {
   "metadata": {
    "ExecuteTime": {
     "end_time": "2025-06-05T04:07:15.540836Z",
     "start_time": "2025-06-05T04:07:14.916658Z"
    }
   },
   "cell_type": "code",
   "source": [
    "df = pd.read_csv('vgchartz-2024.csv')\n",
    "dfN = df.copy()\n",
    "dfN = df.drop('img', axis=1)\n",
    "dfN.info()\n"
   ],
   "id": "d7af3645c2f4d1d4",
   "outputs": [
    {
     "name": "stdout",
     "output_type": "stream",
     "text": [
      "<class 'pandas.core.frame.DataFrame'>\n",
      "RangeIndex: 64016 entries, 0 to 64015\n",
      "Data columns (total 13 columns):\n",
      " #   Column        Non-Null Count  Dtype  \n",
      "---  ------        --------------  -----  \n",
      " 0   title         64016 non-null  object \n",
      " 1   console       64016 non-null  object \n",
      " 2   genre         64016 non-null  object \n",
      " 3   publisher     64016 non-null  object \n",
      " 4   developer     63999 non-null  object \n",
      " 5   critic_score  6678 non-null   float64\n",
      " 6   total_sales   18922 non-null  float64\n",
      " 7   na_sales      12637 non-null  float64\n",
      " 8   jp_sales      6726 non-null   float64\n",
      " 9   pal_sales     12824 non-null  float64\n",
      " 10  other_sales   15128 non-null  float64\n",
      " 11  release_date  56965 non-null  object \n",
      " 12  last_update   17879 non-null  object \n",
      "dtypes: float64(6), object(7)\n",
      "memory usage: 6.3+ MB\n"
     ]
    }
   ],
   "execution_count": 40
  },
  {
   "metadata": {
    "ExecuteTime": {
     "end_time": "2025-06-05T03:56:43.612570Z",
     "start_time": "2025-06-05T03:56:43.589896Z"
    }
   },
   "cell_type": "code",
   "source": [
    "# dfN['release_date'] = pd.to_datetime(dfN['release_date'], errors=\"coerce\")\n",
    "# dfN['last_update'] = pd.to_datetime(dfN['last_update'], errors=\"coerce\")\n",
    "# dfN['total_sales'] = pd.to_numeric(dfN['total_sales'], errors=\"coerce\")\n",
    "# dfN['na_sales'] = pd.to_numeric(dfN['na_sales'], errors=\"coerce\")\n",
    "# dfN['jp_sales'] = pd.to_numeric(dfN['jp_sales'], errors=\"coerce\")\n",
    "# dfN['pal_sales'] = pd.to_numeric(dfN['pal_sales'], errors=\"coerce\")\n",
    "# dfN['other_sales'] = pd.to_numeric(dfN['other_sales'], errors=\"coerce\")\n",
    "# dfN['critic_score'] = pd.to_numeric(dfN['critic_score'], errors=\"coerce\")\n",
    "# dfN['last_update'].fillna('None', inplace = True)\n",
    "# dfN['total_sales'].fillna('None', inplace = True)\n",
    "# dfN['na_sales'].fillna('None', inplace = True)\n",
    "# dfN['jp_sales'].fillna('None', inplace = True)\n",
    "# dfN['pal_sales'].fillna('None', inplace = True)\n",
    "# dfN['other_sales'].fillna('None', inplace = True)\n",
    "# dfN['critic_score'].fillna('None', inplace = True)\n",
    "# dfN['developer'].fillna('None', inplace = True)\n",
    "#\n",
    "#\n",
    "#\n",
    "dfN['rd_year'] = dfN['release_date'].dt.year\n",
    "dfN75_84 = dfN[dfN['rd_year'].astype('str').str.contains('1975|1976|1977|1978|1979|1980|1981|1982|1983|1984')].copy()\n",
    "dfN85_94 = dfN[dfN['rd_year'].astype('str').str.contains('1985|1986|1987|1988|1989|1990|1991|1992|1993|1994')].copy()\n",
    "dfN95_04 = dfN[dfN['rd_year'].astype('str').str.contains('1995|1996|1997|1998|1999|2000|2001|2002|2003|2004')].copy()\n",
    "dfN05_14 = dfN[dfN['rd_year'].astype('str').str.contains('2005|2006|2007|2008|2009|2010|2011|2012|2013|2014')].copy()\n",
    "dfN15_24 = dfN[dfN['rd_year'].astype('str').str.contains('2015|2016|2017|2018|2019|2020|2021|2022|2023|2024')].copy()\n",
    "# # dfNUpdates = dfN[dfN['last_update'].astype('str') != ].copy()\n",
    "#\n",
    "# # print(dfN75_84.info())\n",
    "# # print(dfN85_94.info())\n",
    "# # print(dfN95_04.info())\n",
    "# # print(dfN05_14.info())\n",
    "# # print(dfN15_24.info())\n",
    "# dfN['release_date'].fillna('None', inplace = True)\n",
    "# dfN['rd_year'].fillna('None', inplace = True)\n",
    "# dfN.info()\n",
    "#\n",
    "# dfN.to_csv('vgchartzBetter.csv')\n",
    "dfN.info()"
   ],
   "id": "8a6f1f141b82815e",
   "outputs": [
    {
     "name": "stdout",
     "output_type": "stream",
     "text": [
      "<class 'pandas.core.frame.DataFrame'>\n",
      "RangeIndex: 64016 entries, 0 to 64015\n",
      "Data columns (total 13 columns):\n",
      " #   Column        Non-Null Count  Dtype         \n",
      "---  ------        --------------  -----         \n",
      " 0   title         64016 non-null  object        \n",
      " 1   console       64016 non-null  object        \n",
      " 2   genre         64016 non-null  object        \n",
      " 3   publisher     64016 non-null  object        \n",
      " 4   developer     63999 non-null  object        \n",
      " 5   critic_score  6678 non-null   float64       \n",
      " 6   total_sales   18922 non-null  float64       \n",
      " 7   na_sales      12637 non-null  float64       \n",
      " 8   jp_sales      6726 non-null   float64       \n",
      " 9   pal_sales     12824 non-null  float64       \n",
      " 10  other_sales   15128 non-null  float64       \n",
      " 11  release_date  56965 non-null  datetime64[ns]\n",
      " 12  last_update   17879 non-null  datetime64[ns]\n",
      "dtypes: datetime64[ns](2), float64(6), object(5)\n",
      "memory usage: 6.3+ MB\n"
     ]
    }
   ],
   "execution_count": 23
  },
  {
   "metadata": {
    "ExecuteTime": {
     "end_time": "2025-06-05T04:11:02.533269Z",
     "start_time": "2025-06-05T04:11:02.489485Z"
    }
   },
   "cell_type": "code",
   "source": [
    "dfN['release_date'] = pd.to_datetime(dfN['release_date'], errors=\"coerce\")\n",
    "dfN['last_update'] = pd.to_datetime(dfN['last_update'], errors=\"coerce\")\n",
    "\n",
    "\n",
    "dfN['total_sales'].fillna(0, inplace=True)\n",
    "dfN['na_sales'].fillna(0, inplace=True)\n",
    "dfN['jp_sales'].fillna(0, inplace=True)\n",
    "dfN['pal_sales'].fillna(0, inplace=True)\n",
    "dfN['other_sales'].fillna(0, inplace=True)\n",
    "dfN['critic_score'].fillna(0, inplace=True)\n",
    "\n",
    "dfNLast = dfN.copy()\n",
    "dfNLast.dropna(subset=['last_update', 'release_date'], inplace=True)\n",
    "dfNLast.info()"
   ],
   "id": "ca51a56dac000007",
   "outputs": [
    {
     "name": "stdout",
     "output_type": "stream",
     "text": [
      "<class 'pandas.core.frame.DataFrame'>\n",
      "Index: 12580 entries, 1 to 64014\n",
      "Data columns (total 13 columns):\n",
      " #   Column        Non-Null Count  Dtype         \n",
      "---  ------        --------------  -----         \n",
      " 0   title         12580 non-null  object        \n",
      " 1   console       12580 non-null  object        \n",
      " 2   genre         12580 non-null  object        \n",
      " 3   publisher     12580 non-null  object        \n",
      " 4   developer     12578 non-null  object        \n",
      " 5   critic_score  12580 non-null  float64       \n",
      " 6   total_sales   12580 non-null  float64       \n",
      " 7   na_sales      12580 non-null  float64       \n",
      " 8   jp_sales      12580 non-null  float64       \n",
      " 9   pal_sales     12580 non-null  float64       \n",
      " 10  other_sales   12580 non-null  float64       \n",
      " 11  release_date  12580 non-null  datetime64[ns]\n",
      " 12  last_update   12580 non-null  datetime64[ns]\n",
      "dtypes: datetime64[ns](2), float64(6), object(5)\n",
      "memory usage: 1.3+ MB\n"
     ]
    },
    {
     "name": "stderr",
     "output_type": "stream",
     "text": [
      "C:\\Users\\Tanishq\\AppData\\Local\\Temp\\ipykernel_21824\\2479746532.py:5: FutureWarning: A value is trying to be set on a copy of a DataFrame or Series through chained assignment using an inplace method.\n",
      "The behavior will change in pandas 3.0. This inplace method will never work because the intermediate object on which we are setting values always behaves as a copy.\n",
      "\n",
      "For example, when doing 'df[col].method(value, inplace=True)', try using 'df.method({col: value}, inplace=True)' or df[col] = df[col].method(value) instead, to perform the operation inplace on the original object.\n",
      "\n",
      "\n",
      "  dfN['total_sales'].fillna(0, inplace=True)\n",
      "C:\\Users\\Tanishq\\AppData\\Local\\Temp\\ipykernel_21824\\2479746532.py:6: FutureWarning: A value is trying to be set on a copy of a DataFrame or Series through chained assignment using an inplace method.\n",
      "The behavior will change in pandas 3.0. This inplace method will never work because the intermediate object on which we are setting values always behaves as a copy.\n",
      "\n",
      "For example, when doing 'df[col].method(value, inplace=True)', try using 'df.method({col: value}, inplace=True)' or df[col] = df[col].method(value) instead, to perform the operation inplace on the original object.\n",
      "\n",
      "\n",
      "  dfN['na_sales'].fillna(0, inplace=True)\n",
      "C:\\Users\\Tanishq\\AppData\\Local\\Temp\\ipykernel_21824\\2479746532.py:7: FutureWarning: A value is trying to be set on a copy of a DataFrame or Series through chained assignment using an inplace method.\n",
      "The behavior will change in pandas 3.0. This inplace method will never work because the intermediate object on which we are setting values always behaves as a copy.\n",
      "\n",
      "For example, when doing 'df[col].method(value, inplace=True)', try using 'df.method({col: value}, inplace=True)' or df[col] = df[col].method(value) instead, to perform the operation inplace on the original object.\n",
      "\n",
      "\n",
      "  dfN['jp_sales'].fillna(0, inplace=True)\n",
      "C:\\Users\\Tanishq\\AppData\\Local\\Temp\\ipykernel_21824\\2479746532.py:8: FutureWarning: A value is trying to be set on a copy of a DataFrame or Series through chained assignment using an inplace method.\n",
      "The behavior will change in pandas 3.0. This inplace method will never work because the intermediate object on which we are setting values always behaves as a copy.\n",
      "\n",
      "For example, when doing 'df[col].method(value, inplace=True)', try using 'df.method({col: value}, inplace=True)' or df[col] = df[col].method(value) instead, to perform the operation inplace on the original object.\n",
      "\n",
      "\n",
      "  dfN['pal_sales'].fillna(0, inplace=True)\n",
      "C:\\Users\\Tanishq\\AppData\\Local\\Temp\\ipykernel_21824\\2479746532.py:9: FutureWarning: A value is trying to be set on a copy of a DataFrame or Series through chained assignment using an inplace method.\n",
      "The behavior will change in pandas 3.0. This inplace method will never work because the intermediate object on which we are setting values always behaves as a copy.\n",
      "\n",
      "For example, when doing 'df[col].method(value, inplace=True)', try using 'df.method({col: value}, inplace=True)' or df[col] = df[col].method(value) instead, to perform the operation inplace on the original object.\n",
      "\n",
      "\n",
      "  dfN['other_sales'].fillna(0, inplace=True)\n",
      "C:\\Users\\Tanishq\\AppData\\Local\\Temp\\ipykernel_21824\\2479746532.py:10: FutureWarning: A value is trying to be set on a copy of a DataFrame or Series through chained assignment using an inplace method.\n",
      "The behavior will change in pandas 3.0. This inplace method will never work because the intermediate object on which we are setting values always behaves as a copy.\n",
      "\n",
      "For example, when doing 'df[col].method(value, inplace=True)', try using 'df.method({col: value}, inplace=True)' or df[col] = df[col].method(value) instead, to perform the operation inplace on the original object.\n",
      "\n",
      "\n",
      "  dfN['critic_score'].fillna(0, inplace=True)\n"
     ]
    }
   ],
   "execution_count": 49
  },
  {
   "metadata": {
    "ExecuteTime": {
     "end_time": "2025-06-05T04:24:32.667058Z",
     "start_time": "2025-06-05T04:24:32.370008Z"
    }
   },
   "cell_type": "code",
   "source": [
    "dfN['rd_year'] = dfN['release_date'].dt.year\n",
    "dfNLast['rd_year'] = dfNLast['release_date'].dt.year\n",
    "dfN75_84 = dfN[dfN['rd_year'].astype('str').str.contains('1975|1976|1977|1978|1979|1980|1981|1982|1983|1984')].copy()\n",
    "dfN85_94 = dfN[dfN['rd_year'].astype('str').str.contains('1985|1986|1987|1988|1989|1990|1991|1992|1993|1994')].copy()\n",
    "dfN95_04 = dfN[dfN['rd_year'].astype('str').str.contains('1995|1996|1997|1998|1999|2000|2001|2002|2003|2004')].copy()\n",
    "dfN05_14 = dfN[dfN['rd_year'].astype('str').str.contains('2005|2006|2007|2008|2009|2010|2011|2012|2013|2014')].copy()\n",
    "dfN15_24 = dfN[dfN['rd_year'].astype('str').str.contains('2015|2016|2017|2018|2019|2020|2021|2022|2023|2024')].copy()\n",
    "dfNL75_84 = dfNLast[dfNLast['rd_year'].astype('str').str.contains('1975|1976|1977|1978|1979|1980|1981|1982|1983|1984')].copy()\n",
    "dfNL85_94 = dfNLast[dfNLast['rd_year'].astype('str').str.contains('1985|1986|1987|1988|1989|1990|1991|1992|1993|1994')].copy()\n",
    "dfNL95_04 = dfNLast[dfNLast['rd_year'].astype('str').str.contains('1995|1996|1997|1998|1999|2000|2001|2002|2003|2004')].copy()\n",
    "dfNL05_14 = dfNLast[dfNLast['rd_year'].astype('str').str.contains('2005|2006|2007|2008|2009|2010|2011|2012|2013|2014')].copy()\n",
    "dfNL15_24 = dfNLast[dfNLast['rd_year'].astype('str').str.contains('2015|2016|2017|2018|2019|2020|2021|2022|2023|2024')].copy()\n",
    "dfNL05_14.info()"
   ],
   "id": "8318928979a2b71d",
   "outputs": [
    {
     "name": "stdout",
     "output_type": "stream",
     "text": [
      "<class 'pandas.core.frame.DataFrame'>\n",
      "Index: 3494 entries, 1 to 64004\n",
      "Data columns (total 14 columns):\n",
      " #   Column        Non-Null Count  Dtype         \n",
      "---  ------        --------------  -----         \n",
      " 0   title         3494 non-null   object        \n",
      " 1   console       3494 non-null   object        \n",
      " 2   genre         3494 non-null   object        \n",
      " 3   publisher     3494 non-null   object        \n",
      " 4   developer     3494 non-null   object        \n",
      " 5   critic_score  3494 non-null   float64       \n",
      " 6   total_sales   3494 non-null   float64       \n",
      " 7   na_sales      3494 non-null   float64       \n",
      " 8   jp_sales      3494 non-null   float64       \n",
      " 9   pal_sales     3494 non-null   float64       \n",
      " 10  other_sales   3494 non-null   float64       \n",
      " 11  release_date  3494 non-null   datetime64[ns]\n",
      " 12  last_update   3494 non-null   datetime64[ns]\n",
      " 13  rd_year       3494 non-null   int32         \n",
      "dtypes: datetime64[ns](2), float64(6), int32(1), object(5)\n",
      "memory usage: 395.8+ KB\n"
     ]
    }
   ],
   "execution_count": 58
  },
  {
   "metadata": {
    "ExecuteTime": {
     "end_time": "2025-06-05T04:42:23.652841Z",
     "start_time": "2025-06-05T04:42:23.616826Z"
    }
   },
   "cell_type": "code",
   "source": [
    "unqiueTitle = dfN['title'].unique()\n",
    "uniqueCon = dfN['console'].unique()\n",
    "uniqueGenre = dfN['genre'].unique()\n",
    "uniquePub = dfN['publisher'].unique()\n",
    "uniqueDev = dfN['developer'].unique()\n",
    "\n",
    "print(len(unqiueTitle))\n",
    "print(len(uniqueCon))\n",
    "print(len(uniqueGenre))\n",
    "print(len(uniquePub))\n",
    "print(len(uniqueDev))"
   ],
   "id": "883a6752e1d49989",
   "outputs": [
    {
     "name": "stdout",
     "output_type": "stream",
     "text": [
      "39798\n",
      "81\n",
      "20\n",
      "3383\n",
      "8863\n"
     ]
    }
   ],
   "execution_count": 74
  },
  {
   "metadata": {
    "ExecuteTime": {
     "end_time": "2025-06-05T06:14:18.624723Z",
     "start_time": "2025-06-05T06:14:18.519619Z"
    }
   },
   "cell_type": "code",
   "source": [
    "# dfN.groupby(['title']).sum()\n",
    "dfN2 = dfN.drop(columns='release_date').drop(columns='last_update').drop(columns='rd_year').groupby(['title'], as_index=False).sum().copy()\n",
    "dfN3 = dfN2.drop(columns='console').drop(columns='genre').drop(columns='critic_score').drop(columns='publisher').drop(columns='developer').copy()\n",
    "ts_Highest = dfN3.sort_values(by='total_sales', ascending = False)[:10]\n",
    "na_Highest = dfN3.sort_values(by='na_sales', ascending = False)[:10]\n",
    "jp_Highest = dfN3.sort_values(by='jp_sales', ascending = False)[:10]\n",
    "pal_Highest = dfN3.sort_values(by='pal_sales', ascending = False)[:10]\n",
    "os_Highest = dfN3.sort_values(by='other_sales', ascending = False)[:10]\n",
    "\n"
   ],
   "id": "5e5a571d3e57dd4d",
   "outputs": [],
   "execution_count": 253
  },
  {
   "metadata": {},
   "cell_type": "markdown",
   "source": [
    "# ONE OF THE FIGURE GROUP IS BELOW\n",
    "### TAKES THE HIGHEST SALES, FOR EACH GROUP, WITH ACCORDANCE TO THE TITLE"
   ],
   "id": "59c4237730635d22"
  },
  {
   "metadata": {},
   "cell_type": "code",
   "outputs": [],
   "execution_count": null,
   "source": [
    "# print(total_sales_Highest,'\\n', na_sales_Highest,'\\n', jp_sales_Highest,'\\n', pal_sales_Highest,'\\n', other_sales_Highest)\n",
    "fig_ts = px.histogram(ts_Highest, x = ts_Highest.title, y = ts_Highest.total_sales, color= ts_Highest.title,color_discrete_sequence=[\"#fd7f6f\", \"#7eb0d5\", \"#b2e061\", \"#bd7ebe\", \"#ffb55a\", \"#ffee65\", \"#beb9db\", \"#fdcce5\", \"#8bd3c7\"])\n",
    "fig_na = px.histogram(na_Highest, x = na_Highest.title, y = na_Highest.na_sales, color= na_Highest.title,color_discrete_sequence=[\"#fd7f6f\", \"#7eb0d5\", \"#b2e061\", \"#bd7ebe\", \"#ffb55a\", \"#ffee65\", \"#beb9db\", \"#fdcce5\", \"#8bd3c7\"])\n",
    "fig_jp = px.histogram(jp_Highest, x = jp_Highest.title, y = jp_Highest.jp_sales, color= jp_Highest.title,color_discrete_sequence=[\"#fd7f6f\", \"#7eb0d5\", \"#b2e061\", \"#bd7ebe\", \"#ffb55a\", \"#ffee65\", \"#beb9db\", \"#fdcce5\", \"#8bd3c7\"])\n",
    "fig_pal = px.histogram(pal_Highest, x = pal_Highest.title, y = pal_Highest.pal_sales, color= pal_Highest.title,color_discrete_sequence=[\"#fd7f6f\", \"#7eb0d5\", \"#b2e061\", \"#bd7ebe\", \"#ffb55a\", \"#ffee65\", \"#beb9db\", \"#fdcce5\", \"#8bd3c7\"])\n",
    "fig_os = px.histogram(os_Highest, x = os_Highest.title, y = os_Highest.other_sales, color= os_Highest.title,color_discrete_sequence=[\"#fd7f6f\", \"#7eb0d5\", \"#b2e061\", \"#bd7ebe\", \"#ffb55a\", \"#ffee65\", \"#beb9db\", \"#fdcce5\", \"#8bd3c7\"])\n",
    "\n",
    "fig_ts.show()\n",
    "fig_na.show()\n",
    "fig_jp.show()\n",
    "fig_pal.show()\n",
    "fig_os.show()"
   ],
   "id": "a20bf7418e047519"
  },
  {
   "metadata": {
    "ExecuteTime": {
     "end_time": "2025-06-05T06:06:04.376716Z",
     "start_time": "2025-06-05T06:06:03.760005Z"
    }
   },
   "cell_type": "code",
   "source": [
    "\n",
    "dfNa = dfN.drop(columns='release_date').drop(columns='last_update').drop(columns='rd_year').groupby(['genre']).sum().copy()\n",
    "dfNb = dfNa.drop(columns='console').drop(columns='publisher').drop(columns='developer').copy()\n",
    "dfNc = dfNb['total_sales'].sort_values(ascending = False)\n",
    "dfNc"
   ],
   "id": "fe0b67c391a9ec6",
   "outputs": [
    {
     "data": {
      "text/plain": [
       "genre\n",
       "Sports              1187.51\n",
       "Action              1125.89\n",
       "Shooter              995.50\n",
       "Misc                 557.79\n",
       "Racing               525.75\n",
       "Role-Playing         426.80\n",
       "Platform             349.15\n",
       "Fighting             341.13\n",
       "Adventure            325.39\n",
       "Simulation           300.65\n",
       "Action-Adventure     148.52\n",
       "Puzzle               127.28\n",
       "Strategy             118.31\n",
       "Music                 51.75\n",
       "MMO                    9.31\n",
       "Party                  6.21\n",
       "Visual Novel           5.78\n",
       "Sandbox                1.89\n",
       "Education              0.97\n",
       "Board Game             0.33\n",
       "Name: total_sales, dtype: float64"
      ]
     },
     "execution_count": 241,
     "metadata": {},
     "output_type": "execute_result"
    }
   ],
   "execution_count": 241
  },
  {
   "metadata": {
    "ExecuteTime": {
     "end_time": "2025-06-05T04:34:57.993183Z",
     "start_time": "2025-06-05T04:34:57.952769Z"
    }
   },
   "cell_type": "code",
   "source": [
    "\n",
    "\n",
    "highest_Title = dfN.title.value_counts()[:10].index.tolist()\n",
    "highest_Console = dfN.console.value_counts()[:10].index.tolist()\n",
    "highest_Genre = dfN.genre.value_counts()[:5].index.tolist()\n",
    "highest_Publisher = dfN.publisher.value_counts()[:6].index.tolist()\n",
    "highest_Developer = dfN.developer.value_counts()[:6].index.tolist()\n",
    "print(f'{highest_Console}, \\n{highest_Genre}, \\n{highest_Publisher}, \\n{highest_Developer}, \\n{highest_Title}')"
   ],
   "id": "6bf944a38df59483",
   "outputs": [
    {
     "name": "stdout",
     "output_type": "stream",
     "text": [
      "['PC', 'PS2', 'DS', 'PS4', 'PS', 'NS', 'XBL', 'PSN', 'XOne', 'PS3'], \n",
      "['Misc', 'Action', 'Adventure', 'Role-Playing', 'Sports'], \n",
      "['Unknown', 'Sega', 'Ubisoft', 'Electronic Arts', 'Activision', 'Konami'], \n",
      "['Unknown', 'Konami', 'Sega', 'Capcom', 'Namco', 'Square Enix'], \n",
      "['Plants vs. Zombies', 'Pac-Man', 'Monopoly', 'Doom', 'Double Dragon', 'Elite', 'Samurai Shodown', 'Lemmings', 'Minecraft', 'Resident Evil 4']\n"
     ]
    }
   ],
   "execution_count": 71
  },
  {
   "metadata": {},
   "cell_type": "code",
   "outputs": [],
   "execution_count": null,
   "source": "",
   "id": "beba146be4b09f5f"
  }
 ],
 "metadata": {
  "kernelspec": {
   "display_name": "Python 3",
   "language": "python",
   "name": "python3"
  },
  "language_info": {
   "codemirror_mode": {
    "name": "ipython",
    "version": 2
   },
   "file_extension": ".py",
   "mimetype": "text/x-python",
   "name": "python",
   "nbconvert_exporter": "python",
   "pygments_lexer": "ipython2",
   "version": "2.7.6"
  }
 },
 "nbformat": 4,
 "nbformat_minor": 5
}
