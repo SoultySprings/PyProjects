{
 "cells": [
  {
   "metadata": {
    "ExecuteTime": {
     "end_time": "2025-06-10T09:06:54.304919Z",
     "start_time": "2025-06-10T09:06:54.293920Z"
    }
   },
   "cell_type": "code",
   "source": [
    "import numpy as np\n",
    "account_transactions = np.array([100,-200,300,-400,100,100,-230,450,500,2000])\n",
    "\n",
    "account_total = 0\n",
    "\n",
    "for value in account_transactions:\n",
    "    account_total+=value\n",
    "\n",
    "print(account_total)"
   ],
   "id": "35a19ab9f9a325a8",
   "outputs": [
    {
     "name": "stdout",
     "output_type": "stream",
     "text": [
      "2720\n"
     ]
    }
   ],
   "execution_count": 3
  },
  {
   "metadata": {},
   "cell_type": "code",
   "outputs": [],
   "execution_count": null,
   "source": "",
   "id": "b8b671999ccd5e72"
  }
 ],
 "metadata": {
  "kernelspec": {
   "display_name": "Python 3",
   "language": "python",
   "name": "python3"
  },
  "language_info": {
   "codemirror_mode": {
    "name": "ipython",
    "version": 2
   },
   "file_extension": ".py",
   "mimetype": "text/x-python",
   "name": "python",
   "nbconvert_exporter": "python",
   "pygments_lexer": "ipython2",
   "version": "2.7.6"
  }
 },
 "nbformat": 4,
 "nbformat_minor": 5
}
