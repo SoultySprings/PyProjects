{
 "cells": [
  {
   "cell_type": "code",
   "id": "initial_id",
   "metadata": {
    "collapsed": true,
    "ExecuteTime": {
     "end_time": "2025-05-30T15:58:05.798563Z",
     "start_time": "2025-05-30T15:58:05.780824Z"
    }
   },
   "source": [
    "import numpy as np, pandas as pd, matplotlib, plotly.express as px\n",
    "import dash\n",
    "from dash import dcc, html\n",
    "df = pd.read_csv('consdata.csv')  #Reading dataset\n",
    "\n"
   ],
   "outputs": [],
   "execution_count": 3
  },
  {
   "metadata": {
    "ExecuteTime": {
     "end_time": "2025-05-30T16:00:40.299307Z",
     "start_time": "2025-05-30T16:00:40.267382Z"
    }
   },
   "cell_type": "code",
   "source": "app = dash.Dash(__name__)",
   "id": "c4d536826e4debf",
   "outputs": [],
   "execution_count": 11
  },
  {
   "metadata": {
    "ExecuteTime": {
     "end_time": "2025-05-30T16:02:32.286993Z",
     "start_time": "2025-05-30T16:02:32.276891Z"
    }
   },
   "cell_type": "code",
   "source": [
    "app.layout = ([\n",
    "    html.H1('Figures for the following dataset!'),\n",
    "    html.Div('Dash _ASDASD')\n",
    "]\n",
    ")"
   ],
   "id": "a697b06f62ed1993",
   "outputs": [],
   "execution_count": 15
  },
  {
   "metadata": {
    "ExecuteTime": {
     "end_time": "2025-05-30T16:02:38.162814Z",
     "start_time": "2025-05-30T16:02:37.835044Z"
    }
   },
   "cell_type": "code",
   "source": [
    "if __name__ == '__main__':\n",
    "    app.run(port=4050)"
   ],
   "id": "410c0bafbbbcd21f",
   "outputs": [
    {
     "data": {
      "text/plain": [
       "<IPython.lib.display.IFrame at 0x13b32c0f620>"
      ],
      "text/html": [
       "\n",
       "        <iframe\n",
       "            width=\"100%\"\n",
       "            height=\"650\"\n",
       "            src=\"http://127.0.0.1:4050/\"\n",
       "            frameborder=\"0\"\n",
       "            allowfullscreen\n",
       "            \n",
       "        ></iframe>\n",
       "        "
      ]
     },
     "metadata": {},
     "output_type": "display_data"
    }
   ],
   "execution_count": 16
  }
 ],
 "metadata": {
  "kernelspec": {
   "display_name": "Python 3",
   "language": "python",
   "name": "python3"
  },
  "language_info": {
   "codemirror_mode": {
    "name": "ipython",
    "version": 2
   },
   "file_extension": ".py",
   "mimetype": "text/x-python",
   "name": "python",
   "nbconvert_exporter": "python",
   "pygments_lexer": "ipython2",
   "version": "2.7.6"
  }
 },
 "nbformat": 4,
 "nbformat_minor": 5
}
